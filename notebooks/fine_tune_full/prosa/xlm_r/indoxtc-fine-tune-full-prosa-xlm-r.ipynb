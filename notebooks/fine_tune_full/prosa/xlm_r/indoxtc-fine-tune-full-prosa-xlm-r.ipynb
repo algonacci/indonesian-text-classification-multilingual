{
 "cells": [
  {
   "cell_type": "markdown",
   "metadata": {
    "_cell_guid": "b1076dfc-b9ad-4769-8c92-a6c4dae69d19",
    "_uuid": "8f2839f25d086af736a60e9eeb907d3b93b6e0e5"
   },
   "source": [
    "# IndoXTC - Fine-tune Full Prosa [XLM-R]\n",
    "Exploring Indonesian hate speech/abusive & sentiment text classification using multilingual language model.\n",
    "\n",
    "This kernel is a part of my undergraduate final year project.\n",
    "Checkout the full github repository:\n",
    "https://github.com/ilhamfp/indonesian-text-classification-multilingual"
   ]
  },
  {
   "cell_type": "code",
   "execution_count": 1,
   "metadata": {},
   "outputs": [],
   "source": [
    "#############################\n",
    "# Experiment configurations #\n",
    "#############################\n",
    "\n",
    "INDO_DATA_NAME = 'prosa'\n",
    "DATA_PATH_INDO = '../input/dataset-prosa'\n",
    "\n",
    "FOREIGN_DATA_NAME = 'yelp'\n",
    "DATA_PATH_FOREIGN = '../input/yelp-review-dataset'\n",
    "\n",
    "MODEL_NAME = 'XLM_R'\n",
    "\n",
    "EXPERIMENT_TYPE = 'C' # A / B / C\n",
    "TOTAL_DATA = 10981 # 500 / 750 / 1000 / 2500 / 5000 / 7500 / 10981\n",
    "FOREIGN_LANG_DATA_MULT = 3 # 0.5 / 1 / 1.5 / 2 / 3\n",
    "RANDOM_SEED = 1\n",
    "VALIDATION_DATA = 0.1\n",
    "EPOCHS = 25\n",
    "LEARNING_RATE = 1e-5\n",
    "USE_TPU = True"
   ]
  },
  {
   "cell_type": "code",
   "execution_count": 2,
   "metadata": {},
   "outputs": [],
   "source": [
    "from model_full import set_seed, regular_encode, build_model, callback\n",
    "from load_data import load_experiment_dataset\n",
    "import os\n",
    "import random\n",
    "import pandas as pd\n",
    "import numpy as np\n",
    "import torch\n",
    "import tensorflow as tf\n",
    "import transformers\n",
    "from transformers import TFAutoModel, AutoTokenizer\n",
    "\n",
    "set_seed(seed=RANDOM_SEED)"
   ]
  },
  {
   "cell_type": "markdown",
   "metadata": {},
   "source": [
    "## TPU Configs"
   ]
  },
  {
   "cell_type": "code",
   "execution_count": 3,
   "metadata": {},
   "outputs": [
    {
     "name": "stdout",
     "output_type": "stream",
     "text": [
      "Running on TPU  grpc://10.0.0.2:8470\n",
      "REPLICAS:  8\n",
      "REPLICAS:  8\n"
     ]
    }
   ],
   "source": [
    "if USE_TPU:\n",
    "    # Detect hardware, return appropriate distribution strategy\n",
    "    try:\n",
    "        # TPU detection. No parameters necessary if TPU_NAME environment variable is\n",
    "        # set: this is always the case on Kaggle.\n",
    "        tpu = tf.distribute.cluster_resolver.TPUClusterResolver()\n",
    "        print('Running on TPU ', tpu.master())\n",
    "    except ValueError:\n",
    "        tpu = None\n",
    "\n",
    "    if tpu:\n",
    "        tf.config.experimental_connect_to_cluster(tpu)\n",
    "        tf.tpu.experimental.initialize_tpu_system(tpu)\n",
    "        strategy = tf.distribute.experimental.TPUStrategy(tpu)\n",
    "    else:\n",
    "        # Default distribution strategy in Tensorflow. Works on CPU and single GPU.\n",
    "        strategy = tf.distribute.get_strategy()\n",
    "\n",
    "    print(\"REPLICAS: \", strategy.num_replicas_in_sync)\n",
    "    BATCH_SIZE = 8 * strategy.num_replicas_in_sync\n",
    "    \n",
    "else:\n",
    "    BATCH_SIZE = 8 * 8\n",
    "\n",
    "print(\"REPLICAS: \", strategy.num_replicas_in_sync)\n",
    "AUTO = tf.data.experimental.AUTOTUNE\n",
    "MAX_LEN = 512\n",
    "\n",
    "if MODEL_NAME == 'XLM_R':\n",
    "    MODEL = 'jplu/tf-xlm-roberta-large'\n",
    "elif MODEL_NAME == 'mBERT':\n",
    "    MODEL = 'bert-base-multilingual-cased'"
   ]
  },
  {
   "cell_type": "markdown",
   "metadata": {},
   "source": [
    "## Load Data"
   ]
  },
  {
   "cell_type": "code",
   "execution_count": 4,
   "metadata": {
    "_cell_guid": "79c7e3d0-c299-4dcb-8224-4455121ee9b0",
    "_uuid": "d629ff2d2480ee46fbb7e2d37f6b5fab8052498a"
   },
   "outputs": [
    {
     "name": "stdout",
     "output_type": "stream",
     "text": [
      "~~~Train Data~~~\n",
      "Shape:  (10981, 2)\n",
      "                                                text  label\n",
      "0  kalau mau merasakan roti zaman dahulu ini sala...      1\n",
      "1  konsep nya unik berasa kita berada di hutan ra...      1\n",
      "\n",
      "Label:\n",
      "1    7151\n",
      "0    3830\n",
      "Name: label, dtype: int64\n",
      "\n",
      "~~~Test Data~~~\n",
      "Shape:  (412, 2)\n",
      "                                                text  label\n",
      "0  kemarin gue datang ke tempat makan baru yang a...      0\n",
      "1  kayak nya sih gue tidak akan mau balik lagi ke...      0\n",
      "2  kalau dipikir pikir sebenarnya tidak ada yang ...      0\n",
      "3  ini pertama kalinya gua ke bank buat ngurusin ...      0\n",
      "\n",
      "Label:\n",
      "1    208\n",
      "0    204\n",
      "Name: label, dtype: int64\n",
      "~~~Data~~~\n",
      "Shape:  (560000, 2)\n",
      "   label                                               text\n",
      "0      0  unfortunately the frustration of being dr gold...\n",
      "1      1  been going to dr goldberg for over 10 years i ...\n",
      "\n",
      "Label:\n",
      "1    280000\n",
      "0    280000\n",
      "Name: label, dtype: int64\n",
      "~~~Train Data~~~\n",
      "Shape:  (10981, 2)\n",
      "                                                text  label\n",
      "0  kalau mau merasakan roti zaman dahulu ini sala...      1\n",
      "1  konsep nya unik berasa kita berada di hutan ra...      1\n",
      "\n",
      "Label:\n",
      "1    7151\n",
      "0    3830\n",
      "Name: label, dtype: int64\n",
      "\n",
      "~~~Test Data~~~\n",
      "Shape:  (412, 2)\n",
      "                                                text  label\n",
      "0  kemarin gue datang ke tempat makan baru yang a...      0\n",
      "1  kayak nya sih gue tidak akan mau balik lagi ke...      0\n",
      "2  kalau dipikir pikir sebenarnya tidak ada yang ...      0\n",
      "3  ini pertama kalinya gua ke bank buat ngurusin ...      0\n",
      "\n",
      "Label:\n",
      "1    208\n",
      "0    204\n",
      "Name: label, dtype: int64\n"
     ]
    }
   ],
   "source": [
    "(x_train, y_train), (x_valid, y_valid), (x_test, y_test) = load_experiment_dataset(INDO_DATA_NAME,\n",
    "                                                                                   FOREIGN_DATA_NAME,\n",
    "                                                                                   tipe=EXPERIMENT_TYPE, \n",
    "                                                                                   total_data=TOTAL_DATA, \n",
    "                                                                                   foreign_mult=FOREIGN_LANG_DATA_MULT, \n",
    "                                                                                   valid_size=VALIDATION_DATA)"
   ]
  },
  {
   "cell_type": "markdown",
   "metadata": {},
   "source": [
    "## Tokenizing"
   ]
  },
  {
   "cell_type": "code",
   "execution_count": 5,
   "metadata": {},
   "outputs": [
    {
     "data": {
      "application/vnd.jupyter.widget-view+json": {
       "model_id": "41d865a264a945739efcc34d3eade8f5",
       "version_major": 2,
       "version_minor": 0
      },
      "text/plain": [
       "HBox(children=(FloatProgress(value=0.0, description='Downloading', max=513.0, style=ProgressStyle(description_…"
      ]
     },
     "metadata": {},
     "output_type": "display_data"
    },
    {
     "name": "stdout",
     "output_type": "stream",
     "text": [
      "\n"
     ]
    },
    {
     "data": {
      "application/vnd.jupyter.widget-view+json": {
       "model_id": "9f03f599c6cb4c858ee9ed75bbf6b9cc",
       "version_major": 2,
       "version_minor": 0
      },
      "text/plain": [
       "HBox(children=(FloatProgress(value=0.0, description='Downloading', max=5069051.0, style=ProgressStyle(descript…"
      ]
     },
     "metadata": {},
     "output_type": "display_data"
    },
    {
     "name": "stdout",
     "output_type": "stream",
     "text": [
      "\n"
     ]
    }
   ],
   "source": [
    "tokenizer = AutoTokenizer.from_pretrained(MODEL)"
   ]
  },
  {
   "cell_type": "code",
   "execution_count": 6,
   "metadata": {},
   "outputs": [
    {
     "name": "stdout",
     "output_type": "stream",
     "text": [
      "CPU times: user 44.3 s, sys: 209 ms, total: 44.5 s\n",
      "Wall time: 44.5 s\n"
     ]
    }
   ],
   "source": [
    "%%time \n",
    "\n",
    "x_train = regular_encode(x_train, tokenizer, maxlen=MAX_LEN)\n",
    "x_valid = regular_encode(x_valid, tokenizer, maxlen=MAX_LEN)\n",
    "x_test = regular_encode(x_test, tokenizer, maxlen=MAX_LEN)"
   ]
  },
  {
   "cell_type": "markdown",
   "metadata": {},
   "source": [
    "## Build Datasets Objects"
   ]
  },
  {
   "cell_type": "code",
   "execution_count": 7,
   "metadata": {},
   "outputs": [],
   "source": [
    "train_dataset = (\n",
    "    tf.data.Dataset\n",
    "    .from_tensor_slices((x_train, y_train))\n",
    "    .repeat()\n",
    "    .shuffle(len(x_train),\n",
    "             seed=RANDOM_SEED)\n",
    "    .batch(BATCH_SIZE)\n",
    "    .prefetch(AUTO)\n",
    ")\n",
    "\n",
    "valid_dataset = (\n",
    "    tf.data.Dataset\n",
    "    .from_tensor_slices((x_valid, y_valid))\n",
    "    .batch(BATCH_SIZE)\n",
    "    .cache()\n",
    "    .prefetch(AUTO)\n",
    ")\n",
    "\n",
    "test_dataset = (\n",
    "    tf.data.Dataset\n",
    "    .from_tensor_slices(x_test)\n",
    "    .batch(BATCH_SIZE)\n",
    ")"
   ]
  },
  {
   "cell_type": "markdown",
   "metadata": {},
   "source": [
    "## Load Model"
   ]
  },
  {
   "cell_type": "code",
   "execution_count": 8,
   "metadata": {},
   "outputs": [
    {
     "data": {
      "application/vnd.jupyter.widget-view+json": {
       "model_id": "e94a9706790840069301f2976243a69c",
       "version_major": 2,
       "version_minor": 0
      },
      "text/plain": [
       "HBox(children=(FloatProgress(value=0.0, description='Downloading', max=3271420488.0, style=ProgressStyle(descr…"
      ]
     },
     "metadata": {},
     "output_type": "display_data"
    },
    {
     "name": "stdout",
     "output_type": "stream",
     "text": [
      "\n",
      "Model: \"model\"\n",
      "_________________________________________________________________\n",
      "Layer (type)                 Output Shape              Param #   \n",
      "=================================================================\n",
      "input_word_ids (InputLayer)  [(None, 512)]             0         \n",
      "_________________________________________________________________\n",
      "tf_roberta_model (TFRobertaM ((None, 512, 1024), (None 559890432 \n",
      "_________________________________________________________________\n",
      "tf_op_layer_strided_slice (T [(None, 1024)]            0         \n",
      "_________________________________________________________________\n",
      "dropout_74 (Dropout)         (None, 1024)              0         \n",
      "_________________________________________________________________\n",
      "dense (Dense)                (None, 1)                 1025      \n",
      "=================================================================\n",
      "Total params: 559,891,457\n",
      "Trainable params: 559,891,457\n",
      "Non-trainable params: 0\n",
      "_________________________________________________________________\n",
      "CPU times: user 1min 48s, sys: 39.4 s, total: 2min 27s\n",
      "Wall time: 2min 26s\n"
     ]
    }
   ],
   "source": [
    "%%time\n",
    "if USE_TPU:\n",
    "    with strategy.scope():\n",
    "        transformer_layer = TFAutoModel.from_pretrained(MODEL)\n",
    "        model = build_model(transformer_layer, max_len=MAX_LEN, learning_rate=LEARNING_RATE)\n",
    "        \n",
    "else:\n",
    "    transformer_layer = TFAutoModel.from_pretrained(MODEL)\n",
    "    model = build_model(transformer_layer, max_len=MAX_LEN, learning_rate=LEARNING_RATE)\n",
    "    \n",
    "model.summary()"
   ]
  },
  {
   "cell_type": "markdown",
   "metadata": {},
   "source": [
    "## Train"
   ]
  },
  {
   "cell_type": "code",
   "execution_count": 9,
   "metadata": {},
   "outputs": [
    {
     "name": "stdout",
     "output_type": "stream",
     "text": [
      "617\n"
     ]
    }
   ],
   "source": [
    "n_steps = x_train.shape[0] // BATCH_SIZE\n",
    "print(n_steps)"
   ]
  },
  {
   "cell_type": "code",
   "execution_count": 10,
   "metadata": {},
   "outputs": [
    {
     "name": "stdout",
     "output_type": "stream",
     "text": [
      "Train for 617 steps, validate for 18 steps\n",
      "Epoch 1/25\n"
     ]
    },
    {
     "name": "stderr",
     "output_type": "stream",
     "text": [
      "/opt/conda/lib/python3.6/site-packages/tensorflow_core/python/framework/indexed_slices.py:430: UserWarning: Converting sparse IndexedSlices to a dense Tensor with 256002048 elements. This may consume a large amount of memory.\n",
      "  num_elements)\n",
      "/opt/conda/lib/python3.6/site-packages/tensorflow_core/python/framework/indexed_slices.py:430: UserWarning: Converting sparse IndexedSlices to a dense Tensor with 256002048 elements. This may consume a large amount of memory.\n",
      "  num_elements)\n"
     ]
    },
    {
     "name": "stdout",
     "output_type": "stream",
     "text": [
      "617/617 [==============================] - 637s 1s/step - loss: 0.5991 - f1: 0.7008 - accuracy: 0.6878 - val_loss: 0.3658 - val_f1: 0.8098 - val_accuracy: 0.8352\n",
      "Epoch 2/25\n",
      "617/617 [==============================] - 431s 698ms/step - loss: 0.3369 - f1: 0.8456 - accuracy: 0.8537 - val_loss: 0.2239 - val_f1: 0.8855 - val_accuracy: 0.9117\n",
      "Epoch 3/25\n",
      "617/617 [==============================] - 429s 696ms/step - loss: 0.2212 - f1: 0.9060 - accuracy: 0.9123 - val_loss: 0.1775 - val_f1: 0.9019 - val_accuracy: 0.9335\n",
      "Epoch 4/25\n",
      "617/617 [==============================] - 430s 697ms/step - loss: 0.1757 - f1: 0.9278 - accuracy: 0.9327 - val_loss: 0.1760 - val_f1: 0.9098 - val_accuracy: 0.9417\n",
      "Epoch 5/25\n",
      "617/617 [==============================] - 423s 686ms/step - loss: 0.1469 - f1: 0.9386 - accuracy: 0.9441 - val_loss: 0.1877 - val_f1: 0.9019 - val_accuracy: 0.9335\n",
      "Epoch 6/25\n",
      "617/617 [==============================] - 430s 697ms/step - loss: 0.1253 - f1: 0.9490 - accuracy: 0.9535 - val_loss: 0.1615 - val_f1: 0.9109 - val_accuracy: 0.9426\n",
      "Epoch 7/25\n",
      "617/617 [==============================] - 429s 696ms/step - loss: 0.1054 - f1: 0.9558 - accuracy: 0.9611 - val_loss: 0.1612 - val_f1: 0.9164 - val_accuracy: 0.9508\n",
      "Epoch 8/25\n",
      "617/617 [==============================] - 423s 686ms/step - loss: 0.0814 - f1: 0.9673 - accuracy: 0.9706 - val_loss: 0.2164 - val_f1: 0.9092 - val_accuracy: 0.9426\n",
      "Epoch 9/25\n",
      "617/617 [==============================] - 423s 686ms/step - loss: 0.0631 - f1: 0.9746 - accuracy: 0.9778 - val_loss: 0.1757 - val_f1: 0.9136 - val_accuracy: 0.9472\n",
      "Epoch 10/25\n",
      "616/617 [============================>.] - ETA: 0s - loss: 0.0574 - f1: 0.9764 - accuracy: 0.9802\n",
      "Epoch 00010: ReduceLROnPlateau reducing learning rate to 4.999999873689376e-06.\n",
      "617/617 [==============================] - 423s 686ms/step - loss: 0.0573 - f1: 0.9765 - accuracy: 0.9803 - val_loss: 0.2353 - val_f1: 0.9161 - val_accuracy: 0.9490\n",
      "Epoch 11/25\n",
      "617/617 [==============================] - 423s 686ms/step - loss: 0.0353 - f1: 0.9857 - accuracy: 0.9888 - val_loss: 0.2216 - val_f1: 0.9169 - val_accuracy: 0.9508\n",
      "Epoch 12/25\n",
      "617/617 [==============================] - 423s 686ms/step - loss: 0.0244 - f1: 0.9893 - accuracy: 0.9924 - val_loss: 0.2620 - val_f1: 0.9184 - val_accuracy: 0.9517\n",
      "Epoch 13/25\n",
      "616/617 [============================>.] - ETA: 0s - loss: 0.0220 - f1: 0.9897 - accuracy: 0.9932\n",
      "Epoch 00013: ReduceLROnPlateau reducing learning rate to 2.499999936844688e-06.\n",
      "617/617 [==============================] - 423s 685ms/step - loss: 0.0219 - f1: 0.9898 - accuracy: 0.9932 - val_loss: 0.2796 - val_f1: 0.9132 - val_accuracy: 0.9463\n",
      "Epoch 14/25\n",
      "617/617 [==============================] - 423s 686ms/step - loss: 0.0145 - f1: 0.9937 - accuracy: 0.9954 - val_loss: 0.2726 - val_f1: 0.9144 - val_accuracy: 0.9490\n",
      "Epoch 15/25\n",
      "617/617 [==============================] - 449s 727ms/step - loss: 0.0124 - f1: 0.9933 - accuracy: 0.9964 - val_loss: 0.2805 - val_f1: 0.9183 - val_accuracy: 0.9508\n"
     ]
    }
   ],
   "source": [
    "train_history = model.fit(\n",
    "    train_dataset,\n",
    "    steps_per_epoch=n_steps,\n",
    "    validation_data=valid_dataset,\n",
    "    callbacks = callback(), \n",
    "    epochs=EPOCHS\n",
    ")"
   ]
  },
  {
   "cell_type": "markdown",
   "metadata": {},
   "source": [
    "## Save"
   ]
  },
  {
   "cell_type": "code",
   "execution_count": 11,
   "metadata": {},
   "outputs": [],
   "source": [
    "model.save_weights('model.h5') "
   ]
  },
  {
   "cell_type": "code",
   "execution_count": 12,
   "metadata": {},
   "outputs": [
    {
     "name": "stdout",
     "output_type": "stream",
     "text": [
      "7/7 [==============================] - 46s 7s/step\n"
     ]
    }
   ],
   "source": [
    "result = pd.DataFrame()\n",
    "result['y_pred'] = model.predict(test_dataset, verbose=1).flatten()\n",
    "result['y_true'] = y_test\n",
    "result.to_csv('result_{}_{}_{}_{}_{}_{}_full.csv'.format(INDO_DATA_NAME,\n",
    "                                                    FOREIGN_DATA_NAME,\n",
    "                                                    MODEL_NAME,\n",
    "                                                    EXPERIMENT_TYPE,\n",
    "                                                    TOTAL_DATA,\n",
    "                                                    FOREIGN_LANG_DATA_MULT),\n",
    "              index=False)"
   ]
  }
 ],
 "metadata": {
  "kernelspec": {
   "display_name": "Python 3",
   "language": "python",
   "name": "python3"
  },
  "language_info": {
   "codemirror_mode": {
    "name": "ipython",
    "version": 3
   },
   "file_extension": ".py",
   "mimetype": "text/x-python",
   "name": "python",
   "nbconvert_exporter": "python",
   "pygments_lexer": "ipython3",
   "version": "3.6.6"
  },
  "widgets": {
   "application/vnd.jupyter.widget-state+json": {
    "state": {
     "0d095e10973d4fa594bbf9708f0da0fc": {
      "model_module": "@jupyter-widgets/controls",
      "model_module_version": "1.5.0",
      "model_name": "FloatProgressModel",
      "state": {
       "_dom_classes": [],
       "_model_module": "@jupyter-widgets/controls",
       "_model_module_version": "1.5.0",
       "_model_name": "FloatProgressModel",
       "_view_count": null,
       "_view_module": "@jupyter-widgets/controls",
       "_view_module_version": "1.5.0",
       "_view_name": "ProgressView",
       "bar_style": "success",
       "description": "Downloading: 100%",
       "description_tooltip": null,
       "layout": "IPY_MODEL_9747d726cbf8457f8a5e90c71e8a065c",
       "max": 3271420488.0,
       "min": 0.0,
       "orientation": "horizontal",
       "style": "IPY_MODEL_33ab2900d29749f0a636b6ad0c68c5a0",
       "value": 3271420488.0
      }
     },
     "17134331d6974473ad5f838edba096d6": {
      "model_module": "@jupyter-widgets/base",
      "model_module_version": "1.2.0",
      "model_name": "LayoutModel",
      "state": {
       "_model_module": "@jupyter-widgets/base",
       "_model_module_version": "1.2.0",
       "_model_name": "LayoutModel",
       "_view_count": null,
       "_view_module": "@jupyter-widgets/base",
       "_view_module_version": "1.2.0",
       "_view_name": "LayoutView",
       "align_content": null,
       "align_items": null,
       "align_self": null,
       "border": null,
       "bottom": null,
       "display": null,
       "flex": null,
       "flex_flow": null,
       "grid_area": null,
       "grid_auto_columns": null,
       "grid_auto_flow": null,
       "grid_auto_rows": null,
       "grid_column": null,
       "grid_gap": null,
       "grid_row": null,
       "grid_template_areas": null,
       "grid_template_columns": null,
       "grid_template_rows": null,
       "height": null,
       "justify_content": null,
       "justify_items": null,
       "left": null,
       "margin": null,
       "max_height": null,
       "max_width": null,
       "min_height": null,
       "min_width": null,
       "object_fit": null,
       "object_position": null,
       "order": null,
       "overflow": null,
       "overflow_x": null,
       "overflow_y": null,
       "padding": null,
       "right": null,
       "top": null,
       "visibility": null,
       "width": null
      }
     },
     "224c377b5a6e42fc9bd679124915bb18": {
      "model_module": "@jupyter-widgets/base",
      "model_module_version": "1.2.0",
      "model_name": "LayoutModel",
      "state": {
       "_model_module": "@jupyter-widgets/base",
       "_model_module_version": "1.2.0",
       "_model_name": "LayoutModel",
       "_view_count": null,
       "_view_module": "@jupyter-widgets/base",
       "_view_module_version": "1.2.0",
       "_view_name": "LayoutView",
       "align_content": null,
       "align_items": null,
       "align_self": null,
       "border": null,
       "bottom": null,
       "display": null,
       "flex": null,
       "flex_flow": null,
       "grid_area": null,
       "grid_auto_columns": null,
       "grid_auto_flow": null,
       "grid_auto_rows": null,
       "grid_column": null,
       "grid_gap": null,
       "grid_row": null,
       "grid_template_areas": null,
       "grid_template_columns": null,
       "grid_template_rows": null,
       "height": null,
       "justify_content": null,
       "justify_items": null,
       "left": null,
       "margin": null,
       "max_height": null,
       "max_width": null,
       "min_height": null,
       "min_width": null,
       "object_fit": null,
       "object_position": null,
       "order": null,
       "overflow": null,
       "overflow_x": null,
       "overflow_y": null,
       "padding": null,
       "right": null,
       "top": null,
       "visibility": null,
       "width": null
      }
     },
     "33ab2900d29749f0a636b6ad0c68c5a0": {
      "model_module": "@jupyter-widgets/controls",
      "model_module_version": "1.5.0",
      "model_name": "ProgressStyleModel",
      "state": {
       "_model_module": "@jupyter-widgets/controls",
       "_model_module_version": "1.5.0",
       "_model_name": "ProgressStyleModel",
       "_view_count": null,
       "_view_module": "@jupyter-widgets/base",
       "_view_module_version": "1.2.0",
       "_view_name": "StyleView",
       "bar_color": null,
       "description_width": "initial"
      }
     },
     "41d865a264a945739efcc34d3eade8f5": {
      "model_module": "@jupyter-widgets/controls",
      "model_module_version": "1.5.0",
      "model_name": "HBoxModel",
      "state": {
       "_dom_classes": [],
       "_model_module": "@jupyter-widgets/controls",
       "_model_module_version": "1.5.0",
       "_model_name": "HBoxModel",
       "_view_count": null,
       "_view_module": "@jupyter-widgets/controls",
       "_view_module_version": "1.5.0",
       "_view_name": "HBoxView",
       "box_style": "",
       "children": [
        "IPY_MODEL_ea8323b7315844529b3ee2a1a5956304",
        "IPY_MODEL_d206f4d6f7214e3e85f33a0e09042e49"
       ],
       "layout": "IPY_MODEL_224c377b5a6e42fc9bd679124915bb18"
      }
     },
     "48448d38a7bd4b90bb9c31aeb0cef498": {
      "model_module": "@jupyter-widgets/base",
      "model_module_version": "1.2.0",
      "model_name": "LayoutModel",
      "state": {
       "_model_module": "@jupyter-widgets/base",
       "_model_module_version": "1.2.0",
       "_model_name": "LayoutModel",
       "_view_count": null,
       "_view_module": "@jupyter-widgets/base",
       "_view_module_version": "1.2.0",
       "_view_name": "LayoutView",
       "align_content": null,
       "align_items": null,
       "align_self": null,
       "border": null,
       "bottom": null,
       "display": null,
       "flex": null,
       "flex_flow": null,
       "grid_area": null,
       "grid_auto_columns": null,
       "grid_auto_flow": null,
       "grid_auto_rows": null,
       "grid_column": null,
       "grid_gap": null,
       "grid_row": null,
       "grid_template_areas": null,
       "grid_template_columns": null,
       "grid_template_rows": null,
       "height": null,
       "justify_content": null,
       "justify_items": null,
       "left": null,
       "margin": null,
       "max_height": null,
       "max_width": null,
       "min_height": null,
       "min_width": null,
       "object_fit": null,
       "object_position": null,
       "order": null,
       "overflow": null,
       "overflow_x": null,
       "overflow_y": null,
       "padding": null,
       "right": null,
       "top": null,
       "visibility": null,
       "width": null
      }
     },
     "55970eda34dc4c96afcd829e1752a413": {
      "model_module": "@jupyter-widgets/controls",
      "model_module_version": "1.5.0",
      "model_name": "ProgressStyleModel",
      "state": {
       "_model_module": "@jupyter-widgets/controls",
       "_model_module_version": "1.5.0",
       "_model_name": "ProgressStyleModel",
       "_view_count": null,
       "_view_module": "@jupyter-widgets/base",
       "_view_module_version": "1.2.0",
       "_view_name": "StyleView",
       "bar_color": null,
       "description_width": "initial"
      }
     },
     "57eecf0bae634f7890ca3c46466b2262": {
      "model_module": "@jupyter-widgets/controls",
      "model_module_version": "1.5.0",
      "model_name": "HTMLModel",
      "state": {
       "_dom_classes": [],
       "_model_module": "@jupyter-widgets/controls",
       "_model_module_version": "1.5.0",
       "_model_name": "HTMLModel",
       "_view_count": null,
       "_view_module": "@jupyter-widgets/controls",
       "_view_module_version": "1.5.0",
       "_view_name": "HTMLView",
       "description": "",
       "description_tooltip": null,
       "layout": "IPY_MODEL_bd95feb9bcd34be687fa4a6033d36241",
       "placeholder": "​",
       "style": "IPY_MODEL_a89014bfcb76426ab4928859be7f6f37",
       "value": " 5.07M/5.07M [00:01&lt;00:00, 2.91MB/s]"
      }
     },
     "75a8695559ec4e17888d3b791227d529": {
      "model_module": "@jupyter-widgets/controls",
      "model_module_version": "1.5.0",
      "model_name": "ProgressStyleModel",
      "state": {
       "_model_module": "@jupyter-widgets/controls",
       "_model_module_version": "1.5.0",
       "_model_name": "ProgressStyleModel",
       "_view_count": null,
       "_view_module": "@jupyter-widgets/base",
       "_view_module_version": "1.2.0",
       "_view_name": "StyleView",
       "bar_color": null,
       "description_width": "initial"
      }
     },
     "8b4500e281984cd2afcb3442b00b8833": {
      "model_module": "@jupyter-widgets/base",
      "model_module_version": "1.2.0",
      "model_name": "LayoutModel",
      "state": {
       "_model_module": "@jupyter-widgets/base",
       "_model_module_version": "1.2.0",
       "_model_name": "LayoutModel",
       "_view_count": null,
       "_view_module": "@jupyter-widgets/base",
       "_view_module_version": "1.2.0",
       "_view_name": "LayoutView",
       "align_content": null,
       "align_items": null,
       "align_self": null,
       "border": null,
       "bottom": null,
       "display": null,
       "flex": null,
       "flex_flow": null,
       "grid_area": null,
       "grid_auto_columns": null,
       "grid_auto_flow": null,
       "grid_auto_rows": null,
       "grid_column": null,
       "grid_gap": null,
       "grid_row": null,
       "grid_template_areas": null,
       "grid_template_columns": null,
       "grid_template_rows": null,
       "height": null,
       "justify_content": null,
       "justify_items": null,
       "left": null,
       "margin": null,
       "max_height": null,
       "max_width": null,
       "min_height": null,
       "min_width": null,
       "object_fit": null,
       "object_position": null,
       "order": null,
       "overflow": null,
       "overflow_x": null,
       "overflow_y": null,
       "padding": null,
       "right": null,
       "top": null,
       "visibility": null,
       "width": null
      }
     },
     "91cbba753c1f4b27810c5fcc8bd3df2a": {
      "model_module": "@jupyter-widgets/base",
      "model_module_version": "1.2.0",
      "model_name": "LayoutModel",
      "state": {
       "_model_module": "@jupyter-widgets/base",
       "_model_module_version": "1.2.0",
       "_model_name": "LayoutModel",
       "_view_count": null,
       "_view_module": "@jupyter-widgets/base",
       "_view_module_version": "1.2.0",
       "_view_name": "LayoutView",
       "align_content": null,
       "align_items": null,
       "align_self": null,
       "border": null,
       "bottom": null,
       "display": null,
       "flex": null,
       "flex_flow": null,
       "grid_area": null,
       "grid_auto_columns": null,
       "grid_auto_flow": null,
       "grid_auto_rows": null,
       "grid_column": null,
       "grid_gap": null,
       "grid_row": null,
       "grid_template_areas": null,
       "grid_template_columns": null,
       "grid_template_rows": null,
       "height": null,
       "justify_content": null,
       "justify_items": null,
       "left": null,
       "margin": null,
       "max_height": null,
       "max_width": null,
       "min_height": null,
       "min_width": null,
       "object_fit": null,
       "object_position": null,
       "order": null,
       "overflow": null,
       "overflow_x": null,
       "overflow_y": null,
       "padding": null,
       "right": null,
       "top": null,
       "visibility": null,
       "width": null
      }
     },
     "9747d726cbf8457f8a5e90c71e8a065c": {
      "model_module": "@jupyter-widgets/base",
      "model_module_version": "1.2.0",
      "model_name": "LayoutModel",
      "state": {
       "_model_module": "@jupyter-widgets/base",
       "_model_module_version": "1.2.0",
       "_model_name": "LayoutModel",
       "_view_count": null,
       "_view_module": "@jupyter-widgets/base",
       "_view_module_version": "1.2.0",
       "_view_name": "LayoutView",
       "align_content": null,
       "align_items": null,
       "align_self": null,
       "border": null,
       "bottom": null,
       "display": null,
       "flex": null,
       "flex_flow": null,
       "grid_area": null,
       "grid_auto_columns": null,
       "grid_auto_flow": null,
       "grid_auto_rows": null,
       "grid_column": null,
       "grid_gap": null,
       "grid_row": null,
       "grid_template_areas": null,
       "grid_template_columns": null,
       "grid_template_rows": null,
       "height": null,
       "justify_content": null,
       "justify_items": null,
       "left": null,
       "margin": null,
       "max_height": null,
       "max_width": null,
       "min_height": null,
       "min_width": null,
       "object_fit": null,
       "object_position": null,
       "order": null,
       "overflow": null,
       "overflow_x": null,
       "overflow_y": null,
       "padding": null,
       "right": null,
       "top": null,
       "visibility": null,
       "width": null
      }
     },
     "9c0faf82ad56494684f5b0ed15fccdcb": {
      "model_module": "@jupyter-widgets/controls",
      "model_module_version": "1.5.0",
      "model_name": "FloatProgressModel",
      "state": {
       "_dom_classes": [],
       "_model_module": "@jupyter-widgets/controls",
       "_model_module_version": "1.5.0",
       "_model_name": "FloatProgressModel",
       "_view_count": null,
       "_view_module": "@jupyter-widgets/controls",
       "_view_module_version": "1.5.0",
       "_view_name": "ProgressView",
       "bar_style": "success",
       "description": "Downloading: 100%",
       "description_tooltip": null,
       "layout": "IPY_MODEL_be7b67e624db4d66a24ebc9c61283dc2",
       "max": 5069051.0,
       "min": 0.0,
       "orientation": "horizontal",
       "style": "IPY_MODEL_75a8695559ec4e17888d3b791227d529",
       "value": 5069051.0
      }
     },
     "9f03f599c6cb4c858ee9ed75bbf6b9cc": {
      "model_module": "@jupyter-widgets/controls",
      "model_module_version": "1.5.0",
      "model_name": "HBoxModel",
      "state": {
       "_dom_classes": [],
       "_model_module": "@jupyter-widgets/controls",
       "_model_module_version": "1.5.0",
       "_model_name": "HBoxModel",
       "_view_count": null,
       "_view_module": "@jupyter-widgets/controls",
       "_view_module_version": "1.5.0",
       "_view_name": "HBoxView",
       "box_style": "",
       "children": [
        "IPY_MODEL_9c0faf82ad56494684f5b0ed15fccdcb",
        "IPY_MODEL_57eecf0bae634f7890ca3c46466b2262"
       ],
       "layout": "IPY_MODEL_17134331d6974473ad5f838edba096d6"
      }
     },
     "a89014bfcb76426ab4928859be7f6f37": {
      "model_module": "@jupyter-widgets/controls",
      "model_module_version": "1.5.0",
      "model_name": "DescriptionStyleModel",
      "state": {
       "_model_module": "@jupyter-widgets/controls",
       "_model_module_version": "1.5.0",
       "_model_name": "DescriptionStyleModel",
       "_view_count": null,
       "_view_module": "@jupyter-widgets/base",
       "_view_module_version": "1.2.0",
       "_view_name": "StyleView",
       "description_width": ""
      }
     },
     "bd95feb9bcd34be687fa4a6033d36241": {
      "model_module": "@jupyter-widgets/base",
      "model_module_version": "1.2.0",
      "model_name": "LayoutModel",
      "state": {
       "_model_module": "@jupyter-widgets/base",
       "_model_module_version": "1.2.0",
       "_model_name": "LayoutModel",
       "_view_count": null,
       "_view_module": "@jupyter-widgets/base",
       "_view_module_version": "1.2.0",
       "_view_name": "LayoutView",
       "align_content": null,
       "align_items": null,
       "align_self": null,
       "border": null,
       "bottom": null,
       "display": null,
       "flex": null,
       "flex_flow": null,
       "grid_area": null,
       "grid_auto_columns": null,
       "grid_auto_flow": null,
       "grid_auto_rows": null,
       "grid_column": null,
       "grid_gap": null,
       "grid_row": null,
       "grid_template_areas": null,
       "grid_template_columns": null,
       "grid_template_rows": null,
       "height": null,
       "justify_content": null,
       "justify_items": null,
       "left": null,
       "margin": null,
       "max_height": null,
       "max_width": null,
       "min_height": null,
       "min_width": null,
       "object_fit": null,
       "object_position": null,
       "order": null,
       "overflow": null,
       "overflow_x": null,
       "overflow_y": null,
       "padding": null,
       "right": null,
       "top": null,
       "visibility": null,
       "width": null
      }
     },
     "be7b67e624db4d66a24ebc9c61283dc2": {
      "model_module": "@jupyter-widgets/base",
      "model_module_version": "1.2.0",
      "model_name": "LayoutModel",
      "state": {
       "_model_module": "@jupyter-widgets/base",
       "_model_module_version": "1.2.0",
       "_model_name": "LayoutModel",
       "_view_count": null,
       "_view_module": "@jupyter-widgets/base",
       "_view_module_version": "1.2.0",
       "_view_name": "LayoutView",
       "align_content": null,
       "align_items": null,
       "align_self": null,
       "border": null,
       "bottom": null,
       "display": null,
       "flex": null,
       "flex_flow": null,
       "grid_area": null,
       "grid_auto_columns": null,
       "grid_auto_flow": null,
       "grid_auto_rows": null,
       "grid_column": null,
       "grid_gap": null,
       "grid_row": null,
       "grid_template_areas": null,
       "grid_template_columns": null,
       "grid_template_rows": null,
       "height": null,
       "justify_content": null,
       "justify_items": null,
       "left": null,
       "margin": null,
       "max_height": null,
       "max_width": null,
       "min_height": null,
       "min_width": null,
       "object_fit": null,
       "object_position": null,
       "order": null,
       "overflow": null,
       "overflow_x": null,
       "overflow_y": null,
       "padding": null,
       "right": null,
       "top": null,
       "visibility": null,
       "width": null
      }
     },
     "ce7b18b3635f4643bcde6b1dc3bd3e5f": {
      "model_module": "@jupyter-widgets/controls",
      "model_module_version": "1.5.0",
      "model_name": "HTMLModel",
      "state": {
       "_dom_classes": [],
       "_model_module": "@jupyter-widgets/controls",
       "_model_module_version": "1.5.0",
       "_model_name": "HTMLModel",
       "_view_count": null,
       "_view_module": "@jupyter-widgets/controls",
       "_view_module_version": "1.5.0",
       "_view_name": "HTMLView",
       "description": "",
       "description_tooltip": null,
       "layout": "IPY_MODEL_48448d38a7bd4b90bb9c31aeb0cef498",
       "placeholder": "​",
       "style": "IPY_MODEL_d18dac791c1a433da523212c1e8d8764",
       "value": " 3.27G/3.27G [01:24&lt;00:00, 38.9MB/s]"
      }
     },
     "d18dac791c1a433da523212c1e8d8764": {
      "model_module": "@jupyter-widgets/controls",
      "model_module_version": "1.5.0",
      "model_name": "DescriptionStyleModel",
      "state": {
       "_model_module": "@jupyter-widgets/controls",
       "_model_module_version": "1.5.0",
       "_model_name": "DescriptionStyleModel",
       "_view_count": null,
       "_view_module": "@jupyter-widgets/base",
       "_view_module_version": "1.2.0",
       "_view_name": "StyleView",
       "description_width": ""
      }
     },
     "d206f4d6f7214e3e85f33a0e09042e49": {
      "model_module": "@jupyter-widgets/controls",
      "model_module_version": "1.5.0",
      "model_name": "HTMLModel",
      "state": {
       "_dom_classes": [],
       "_model_module": "@jupyter-widgets/controls",
       "_model_module_version": "1.5.0",
       "_model_name": "HTMLModel",
       "_view_count": null,
       "_view_module": "@jupyter-widgets/controls",
       "_view_module_version": "1.5.0",
       "_view_name": "HTMLView",
       "description": "",
       "description_tooltip": null,
       "layout": "IPY_MODEL_8b4500e281984cd2afcb3442b00b8833",
       "placeholder": "​",
       "style": "IPY_MODEL_fd35ac05348f49218b36050fc01e0ccd",
       "value": " 513/513 [00:03&lt;00:00, 160B/s]"
      }
     },
     "e94a9706790840069301f2976243a69c": {
      "model_module": "@jupyter-widgets/controls",
      "model_module_version": "1.5.0",
      "model_name": "HBoxModel",
      "state": {
       "_dom_classes": [],
       "_model_module": "@jupyter-widgets/controls",
       "_model_module_version": "1.5.0",
       "_model_name": "HBoxModel",
       "_view_count": null,
       "_view_module": "@jupyter-widgets/controls",
       "_view_module_version": "1.5.0",
       "_view_name": "HBoxView",
       "box_style": "",
       "children": [
        "IPY_MODEL_0d095e10973d4fa594bbf9708f0da0fc",
        "IPY_MODEL_ce7b18b3635f4643bcde6b1dc3bd3e5f"
       ],
       "layout": "IPY_MODEL_91cbba753c1f4b27810c5fcc8bd3df2a"
      }
     },
     "ea8323b7315844529b3ee2a1a5956304": {
      "model_module": "@jupyter-widgets/controls",
      "model_module_version": "1.5.0",
      "model_name": "FloatProgressModel",
      "state": {
       "_dom_classes": [],
       "_model_module": "@jupyter-widgets/controls",
       "_model_module_version": "1.5.0",
       "_model_name": "FloatProgressModel",
       "_view_count": null,
       "_view_module": "@jupyter-widgets/controls",
       "_view_module_version": "1.5.0",
       "_view_name": "ProgressView",
       "bar_style": "success",
       "description": "Downloading: 100%",
       "description_tooltip": null,
       "layout": "IPY_MODEL_fa127dcddf694aa2948252fa057fa731",
       "max": 513.0,
       "min": 0.0,
       "orientation": "horizontal",
       "style": "IPY_MODEL_55970eda34dc4c96afcd829e1752a413",
       "value": 513.0
      }
     },
     "fa127dcddf694aa2948252fa057fa731": {
      "model_module": "@jupyter-widgets/base",
      "model_module_version": "1.2.0",
      "model_name": "LayoutModel",
      "state": {
       "_model_module": "@jupyter-widgets/base",
       "_model_module_version": "1.2.0",
       "_model_name": "LayoutModel",
       "_view_count": null,
       "_view_module": "@jupyter-widgets/base",
       "_view_module_version": "1.2.0",
       "_view_name": "LayoutView",
       "align_content": null,
       "align_items": null,
       "align_self": null,
       "border": null,
       "bottom": null,
       "display": null,
       "flex": null,
       "flex_flow": null,
       "grid_area": null,
       "grid_auto_columns": null,
       "grid_auto_flow": null,
       "grid_auto_rows": null,
       "grid_column": null,
       "grid_gap": null,
       "grid_row": null,
       "grid_template_areas": null,
       "grid_template_columns": null,
       "grid_template_rows": null,
       "height": null,
       "justify_content": null,
       "justify_items": null,
       "left": null,
       "margin": null,
       "max_height": null,
       "max_width": null,
       "min_height": null,
       "min_width": null,
       "object_fit": null,
       "object_position": null,
       "order": null,
       "overflow": null,
       "overflow_x": null,
       "overflow_y": null,
       "padding": null,
       "right": null,
       "top": null,
       "visibility": null,
       "width": null
      }
     },
     "fd35ac05348f49218b36050fc01e0ccd": {
      "model_module": "@jupyter-widgets/controls",
      "model_module_version": "1.5.0",
      "model_name": "DescriptionStyleModel",
      "state": {
       "_model_module": "@jupyter-widgets/controls",
       "_model_module_version": "1.5.0",
       "_model_name": "DescriptionStyleModel",
       "_view_count": null,
       "_view_module": "@jupyter-widgets/base",
       "_view_module_version": "1.2.0",
       "_view_name": "StyleView",
       "description_width": ""
      }
     }
    },
    "version_major": 2,
    "version_minor": 0
   }
  }
 },
 "nbformat": 4,
 "nbformat_minor": 4
}
