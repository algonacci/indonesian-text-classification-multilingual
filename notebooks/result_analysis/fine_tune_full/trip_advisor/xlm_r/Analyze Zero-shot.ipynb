{
 "cells": [
  {
   "cell_type": "markdown",
   "metadata": {},
   "source": [
    "# Analyze Zero-shot"
   ]
  },
  {
   "cell_type": "code",
   "execution_count": 37,
   "metadata": {},
   "outputs": [],
   "source": [
    "import pandas as pd\n",
    "import numpy as np\n",
    "import re\n",
    "from sklearn.model_selection import train_test_split\n",
    "import torch\n",
    "from torch.utils.data.sampler import SubsetRandomSampler\n",
    "from torch.utils.data import TensorDataset, DataLoader\n",
    "\n",
    "RANDOM_SEED=1\n",
    "\n",
    "def set_random_seed_data(seed):\n",
    "    RANDOM_SEED = seed\n",
    "\n",
    "def lowercase(text):\n",
    "    return text.lower()\n",
    "\n",
    "def remove_nonaplhanumeric(text):\n",
    "    text = re.sub('[^0-9a-zA-Z]+', ' ', text) \n",
    "    return text\n",
    "\n",
    "def remove_unnecessary_char(text):\n",
    "    text = re.sub('\\n',' ',text) # Remove every '\\n'\n",
    "    text = re.sub('((www\\.[^\\s]+)|(https?://[^\\s]+)|(http?://[^\\s]+))',' ',text) # Remove every URL\n",
    "    text = re.sub('  +', ' ', text) # Remove extra spaces\n",
    "    text = text.strip()\n",
    "    return text\n",
    "\n",
    "def preprocess_text(text):\n",
    "    text = lowercase(text)\n",
    "    text = remove_nonaplhanumeric(text)\n",
    "    text = remove_unnecessary_char(text)\n",
    "    return text\n",
    "\n",
    "def load_data(PATH):\n",
    "    test = pd.read_csv(PATH)\n",
    "    test = test.rename(columns={\"content\": \"text\", \"polarity\": \"label\"})\n",
    "    test['label'] = test['label'].apply(lambda x: 1 if x==\"positive\" else 0)\n",
    "    test['text'] = test['text'].apply(lambda x: preprocess_text(x))\n",
    "    \n",
    "    return test"
   ]
  },
  {
   "cell_type": "code",
   "execution_count": 38,
   "metadata": {},
   "outputs": [
    {
     "data": {
      "text/html": [
       "<div>\n",
       "<style scoped>\n",
       "    .dataframe tbody tr th:only-of-type {\n",
       "        vertical-align: middle;\n",
       "    }\n",
       "\n",
       "    .dataframe tbody tr th {\n",
       "        vertical-align: top;\n",
       "    }\n",
       "\n",
       "    .dataframe thead th {\n",
       "        text-align: right;\n",
       "    }\n",
       "</style>\n",
       "<table border=\"1\" class=\"dataframe\">\n",
       "  <thead>\n",
       "    <tr style=\"text-align: right;\">\n",
       "      <th></th>\n",
       "      <th>text</th>\n",
       "      <th>label</th>\n",
       "    </tr>\n",
       "  </thead>\n",
       "  <tbody>\n",
       "    <tr>\n",
       "      <th>0</th>\n",
       "      <td>kekecewaan untuk ritz standar menginap number ...</td>\n",
       "      <td>0</td>\n",
       "    </tr>\n",
       "    <tr>\n",
       "      <th>1</th>\n",
       "      <td>kekecewaan untuk ritz standar menginap number ...</td>\n",
       "      <td>0</td>\n",
       "    </tr>\n",
       "    <tr>\n",
       "      <th>2</th>\n",
       "      <td>kekurangan number tidak ada fasilitas apapun l...</td>\n",
       "      <td>0</td>\n",
       "    </tr>\n",
       "    <tr>\n",
       "      <th>3</th>\n",
       "      <td>kelebihan lokasi strategis breakfast standard ...</td>\n",
       "      <td>0</td>\n",
       "    </tr>\n",
       "    <tr>\n",
       "      <th>4</th>\n",
       "      <td>kelebihan kamar luas dan ada balkon di setiap ...</td>\n",
       "      <td>0</td>\n",
       "    </tr>\n",
       "  </tbody>\n",
       "</table>\n",
       "</div>"
      ],
      "text/plain": [
       "                                                text  label\n",
       "0  kekecewaan untuk ritz standar menginap number ...      0\n",
       "1  kekecewaan untuk ritz standar menginap number ...      0\n",
       "2  kekurangan number tidak ada fasilitas apapun l...      0\n",
       "3  kelebihan lokasi strategis breakfast standard ...      0\n",
       "4  kelebihan kamar luas dan ada balkon di setiap ...      0"
      ]
     },
     "execution_count": 38,
     "metadata": {},
     "output_type": "execute_result"
    }
   ],
   "source": [
    "test = load_data('../../../../../data/trip_advisor/test_set.csv')\n",
    "test.head()"
   ]
  },
  {
   "cell_type": "markdown",
   "metadata": {},
   "source": [
    "# Zero-shot"
   ]
  },
  {
   "cell_type": "code",
   "execution_count": 39,
   "metadata": {},
   "outputs": [
    {
     "data": {
      "text/html": [
       "<div>\n",
       "<style scoped>\n",
       "    .dataframe tbody tr th:only-of-type {\n",
       "        vertical-align: middle;\n",
       "    }\n",
       "\n",
       "    .dataframe tbody tr th {\n",
       "        vertical-align: top;\n",
       "    }\n",
       "\n",
       "    .dataframe thead th {\n",
       "        text-align: right;\n",
       "    }\n",
       "</style>\n",
       "<table border=\"1\" class=\"dataframe\">\n",
       "  <thead>\n",
       "    <tr style=\"text-align: right;\">\n",
       "      <th></th>\n",
       "      <th>y_pred</th>\n",
       "      <th>y_true</th>\n",
       "      <th>y_pred_int</th>\n",
       "      <th>text</th>\n",
       "    </tr>\n",
       "  </thead>\n",
       "  <tbody>\n",
       "    <tr>\n",
       "      <th>0</th>\n",
       "      <td>0.003014</td>\n",
       "      <td>0</td>\n",
       "      <td>0</td>\n",
       "      <td>kekecewaan untuk ritz standar menginap number ...</td>\n",
       "    </tr>\n",
       "    <tr>\n",
       "      <th>1</th>\n",
       "      <td>0.003014</td>\n",
       "      <td>0</td>\n",
       "      <td>0</td>\n",
       "      <td>kekecewaan untuk ritz standar menginap number ...</td>\n",
       "    </tr>\n",
       "    <tr>\n",
       "      <th>2</th>\n",
       "      <td>0.009955</td>\n",
       "      <td>0</td>\n",
       "      <td>0</td>\n",
       "      <td>kekurangan number tidak ada fasilitas apapun l...</td>\n",
       "    </tr>\n",
       "    <tr>\n",
       "      <th>3</th>\n",
       "      <td>0.001772</td>\n",
       "      <td>0</td>\n",
       "      <td>0</td>\n",
       "      <td>kelebihan lokasi strategis breakfast standard ...</td>\n",
       "    </tr>\n",
       "    <tr>\n",
       "      <th>4</th>\n",
       "      <td>0.054279</td>\n",
       "      <td>0</td>\n",
       "      <td>0</td>\n",
       "      <td>kelebihan kamar luas dan ada balkon di setiap ...</td>\n",
       "    </tr>\n",
       "  </tbody>\n",
       "</table>\n",
       "</div>"
      ],
      "text/plain": [
       "     y_pred  y_true  y_pred_int  \\\n",
       "0  0.003014       0           0   \n",
       "1  0.003014       0           0   \n",
       "2  0.009955       0           0   \n",
       "3  0.001772       0           0   \n",
       "4  0.054279       0           0   \n",
       "\n",
       "                                                text  \n",
       "0  kekecewaan untuk ritz standar menginap number ...  \n",
       "1  kekecewaan untuk ritz standar menginap number ...  \n",
       "2  kekurangan number tidak ada fasilitas apapun l...  \n",
       "3  kelebihan lokasi strategis breakfast standard ...  \n",
       "4  kelebihan kamar luas dan ada balkon di setiap ...  "
      ]
     },
     "execution_count": 39,
     "metadata": {},
     "output_type": "execute_result"
    }
   ],
   "source": [
    "# data = pd.read_csv('result_trip_advisor_yelp_XLM_R_A_12389_0.5_full.csv')\n",
    "data = pd.read_csv('result_trip_advisor_yelp_XLM_R_B_12389_0.5_full.csv')\n",
    "data['y_pred_int'] = data['y_pred'].apply(lambda x: int(x>=0.5))\n",
    "data['text'] = test['text'].values\n",
    "data.head()"
   ]
  },
  {
   "cell_type": "code",
   "execution_count": 40,
   "metadata": {},
   "outputs": [
    {
     "name": "stdout",
     "output_type": "stream",
     "text": [
      "\n",
      "y_pred: 0.98462856\n",
      "y_true: 1\n",
      "text: berkunjung saat masih di lokasi yang lama makanan dan service yang memuaskan tapi sayang harganya mahal tetapi masi termasuk worth it karena kualitas daging yang top\n",
      "\n",
      "y_pred: 0.9911928\n",
      "y_true: 1\n",
      "text: berkunjung saat valentine day resto full book kami bersama keluarga jadi kami dapat ruangan yang cukup privacy untuk berhaha hihi tanpa mengganggu couples yang lain menu disajikan indah dan tersedia pelayan yang selalu siap melayani suasana menyenangkan sayang rasa makanan so so tidak seistimewa penyajiannya harga selaras dengan servis dan indahnya penyajian\n",
      "\n",
      "y_pred: 0.8583745999999999\n",
      "y_true: 1\n",
      "text: berkunjung selama satu malam di shangri la hotel di surabaya memberika kesan menarik bagi saya dari segi makanan kualitas selalu terjaga sangat saya nikmati hanya saja saat itu adalah bulan suci ramadhan meski pihak manajemen tidak mengurangi standar pelayanan bagi para tamu yang sedang berpuasa akan tetapi pilihan makanan telah ditetapkan sehingga menu sangat terbatas alangkah baiknya menyambut bulan suci ramadhan\n",
      "\n",
      "y_pred: 0.8583745999999999\n",
      "y_true: 1\n",
      "text: berkunjung selama satu malam di shangri la hotel di surabaya memberika kesan menarik bagi saya dari segi makanan kualitas selalu terjaga sangat saya nikmati hanya saja saat itu adalah bulan suci ramadhan meski pihak manajemen tidak mengurangi standar pelayanan bagi para tamu yang sedang berpuasa akan tetapi pilihan makanan telah ditetapkan sehingga menu sangat terbatas alangkah baiknya menyambut bulan suci ramadhan\n",
      "\n",
      "y_pred: 0.9928621\n",
      "y_true: 1\n",
      "text: berkunjung sendiri memilih hotel dengan lokasi tak jauh dari malioboro dengan niat mudah dalam berbelanja kenyataannya lebih nyaman istirahat di kamar dan menikmati pemandangan dari gazebo hotel ini nyaman menyenangkan luar biasa\n",
      "\n",
      "y_pred: 0.9709388000000001\n",
      "y_true: 1\n",
      "text: berkunjung setelah tiba di airport adi sumarmo meluncur ke tempat ini dan melakukan reservasi sebelumnya di ruangan vip di lantai number makanannya relatif enak dan penyajiannya cepat para pelayannya juga sigap menerima dan memproses order kebetulan ada dua dapur besar untuk memasak makanan dan tamu\n",
      "\n",
      "y_pred: 0.9293408000000001\n",
      "y_true: 1\n",
      "text: berkunjung untuk dinner bersama klien di malam hari kami memesan sederet menu yang nampaknya bercita rasa khas indonesia benar saja makanan yang tersaji tak hanya bercita rasa nasional namun juga disajikan dalam tampilan yang tradisional seperti misalnya sate yang berbonggol batang serai dan diletakan dalam wadah panjang a lah tukang sate keliling pelayan sangat ramah dan rasa makanan lezat dengan lanjutan\n",
      "\n",
      "y_pred: 0.9805278000000001\n",
      "y_true: 1\n",
      "text: berkunjung untuk kedua kali nya di restoran ini dalam rangka yang sama yaitu wisuda restoran ini besar dengan desainnya yang menyungsung ala bali sangat nyaman atmosfirnya cocok untuk keluarga dan tempat meeting sambil makan siang makanan disini beragam mulai dari indonesian western pasta dan lain lain dan rasanya enak yg kedua kali ini saya mencoba bebek bali nya dan rasanya enak mskpiun lanjutan\n",
      "\n",
      "y_pred: 0.98554945\n",
      "y_true: 1\n",
      "text: berkunjung untuk kunjungan bisnis saya hanya menghabiskan dua malam di hotel ini ia memiliki lobby yang luas sehingga apabila tamu anda berkunjung mereka akan betah menunggu di sana kamar yang saya huni sangat nyaman lengkap dengan balkon yang menghadap sisi selatan hotel ini sepertinya ingin\n",
      "\n",
      "y_pred: 0.9890758\n",
      "y_true: 1\n",
      "text: berkunjung untuk lunch kami memesan nasi salmon sambal matah nasi loco moco minya appetizer minuman kami memesan freak shake dan mocktail rainbow something saya lupa namanya semuanya enak dan porsinya cukup di lantai bawah ruangannya nyaman dan instagrammable disediakan pula mainan mainan seperti ular tangga uno stacko dll\n",
      "\n",
      "y_pred: 0.97844964\n",
      "y_true: 1\n",
      "text: berkunjung untuk makan malam bersama istri dan seorang putri number tahun kami memesan number ekor bandeng presto bakar dan number ekor goreng nasi hangat dipadu bandeng dan sambalnya enak ditutup dengan es putar yang tersedia dalam number pilihan rasa durian vanilla kelapa\n",
      "\n",
      "y_pred: 0.9302280999999999\n",
      "y_true: 1\n",
      "text: berkunjung untuk makan malam menunggu sekitar number menit untuk mendapatkan tempat restoran modern dengan menu makanan dan minuman yang variatif dan dapat dijadikan alternatif untuk menghabiskan waktu untuk santap malam akhir pekan bersama teman dan kolega memesan wagyu beef burger untuk makan malam dengan rasa yang lumayan\n",
      "\n",
      "y_pred: 0.98621345\n",
      "y_true: 1\n",
      "text: berkunjung untuk makan siang memesan menu gudeg pecel dan steak lidah goreng cita rasa makanan sangat enak porsi cukup harga sekitar number 000 hingga number 000 untuk seporsi tempat nyaman dan cukup sejuk ada alunan musik lembut dari speaker tersedia pula aneka makanan ringan seperti kerupuk dan keripik\n",
      "\n",
      "y_pred: 0.99840784\n",
      "y_true: 1\n",
      "text: berkunjung untuk melakukan perjalan bisnis membuat saya untuk memilih penginapan yang promo dan kalau budget saat ini saya mendapatkan diskon dari sebuah travel online maka saya memilih hotel ini dengan harapan kamar tidak luas tidak apa yang penting bersih tetapi ternyata setelah saya datang kamarnya luas dan saya dapat kamar yang pool akses serta sarapan yang juga sangat baik puas dan recomended deh\n",
      "\n",
      "y_pred: 0.99840784\n",
      "y_true: 1\n",
      "text: berkunjung untuk melakukan perjalan bisnis membuat saya untuk memilih penginapan yang promo dan kalau budget saat ini saya mendapatkan diskon dari sebuah travel online maka saya memilih hotel ini dengan harapan kamar tidak luas tidak apa yang penting bersih tetapi ternyata setelah saya datang kamarnya luas dan saya dapat kamar yang pool akses serta sarapan yang juga sangat baik puas dan recomended deh\n",
      "\n",
      "y_pred: 0.9328555000000001\n",
      "y_true: 1\n",
      "text: berkunjung untuk pertama kalinya ke restoran ini dalam rangka undangan makan siang girls quality time dengan kawan kawan gereja lokasinya sangat strategis di tengah kota dan berderetan dengan beberapa tempat makan lainnya seperti kedai es krim ragusa veteran coffee dsb suasana di restoran begitu tenang dan klasik penuh dengan interior ala etnis china di indonesia termasuk rumah abu dupa lanjutan\n",
      "\n",
      "y_pred: 0.86348426\n",
      "y_true: 1\n",
      "text: berkunjung untuk transit karena kemalaman ketika datang disambut dengan staff yang ramah lokasi sekitar dengan minimarket namun sayang hanya buka sampai jam number malam overall kondisi kamar rapih dan nyaman sayang toilet agak sedikit bau\n",
      "\n",
      "y_pred: 0.9476498999999999\n",
      "y_true: 1\n",
      "text: berkunjung waktu malam hari akan terasa suasana romantisnya menikmati makan malan di pinggir pantai ditemani cahaya lilin\n",
      "\n",
      "y_pred: 0.9962536\n",
      "y_true: 1\n",
      "text: berkunjunglah di pecel dewi solo masakan nya enak banyak macam nya pelayan juga memuaskan harga juga murah tempat bersih dan nyaman\n",
      "\n",
      "y_pred: 0.972159\n",
      "y_true: 1\n",
      "text: berkunjunglah ke legian garden restoran ambik tempat duduk agak ke pojok barat sebelah utara anda akan leluasa menikmati jalan malioboro sambil menikmati hidangan yang ada\n"
     ]
    }
   ],
   "source": [
    "count = 0\n",
    "for i in range(0, data.shape[0]):\n",
    "    if (data.loc[i].y_pred_int == data.loc[i].y_true) and data.loc[i].y_true==1:\n",
    "        count+=1\n",
    "        print(\"\\ny_pred: {}\".format(data.loc[i].y_pred))\n",
    "        print(\"y_true: {}\".format(data.loc[i].y_true))        \n",
    "        print(\"text: {}\".format(data.loc[i].text))      \n",
    "        if count==20:\n",
    "            break"
   ]
  },
  {
   "cell_type": "code",
   "execution_count": 41,
   "metadata": {},
   "outputs": [],
   "source": [
    "from sklearn.metrics import confusion_matrix"
   ]
  },
  {
   "cell_type": "code",
   "execution_count": 42,
   "metadata": {},
   "outputs": [
    {
     "name": "stdout",
     "output_type": "stream",
     "text": [
      "[[1120  184]\n",
      " [  74 1051]]\n"
     ]
    }
   ],
   "source": [
    "cnf_matrix = confusion_matrix(data.y_true.values, data.y_pred_int.values)\n",
    "print(cnf_matrix)"
   ]
  },
  {
   "cell_type": "code",
   "execution_count": 34,
   "metadata": {},
   "outputs": [],
   "source": [
    "import matplotlib.pyplot as plt\n",
    "import itertools\n",
    "def plot_confusion_matrix(cm, classes,\n",
    "                          normalize=False,\n",
    "                          title='Confusion matrix',\n",
    "                          cmap=plt.cm.Blues):\n",
    "    \"\"\"\n",
    "    This function prints and plots the confusion matrix.\n",
    "    Normalization can be applied by setting `normalize=True`.\n",
    "    \"\"\"\n",
    "    plt.imshow(cm, interpolation='nearest', cmap=cmap)\n",
    "    plt.title(title)\n",
    "    plt.colorbar()\n",
    "    tick_marks = np.arange(len(classes))\n",
    "    plt.xticks(tick_marks, classes)\n",
    "    plt.yticks(tick_marks, classes)\n",
    "\n",
    "    if normalize:\n",
    "        cm = cm.astype('float') / cm.sum(axis=1)[:, np.newaxis]\n",
    "        print(\"Normalized confusion matrix\")\n",
    "    else:\n",
    "        print('Confusion matrix, without normalization')\n",
    "\n",
    "    print(cm)\n",
    "\n",
    "    thresh = cm.max() / 2.\n",
    "    for i, j in itertools.product(range(cm.shape[0]), range(cm.shape[1])):\n",
    "        plt.text(j, i, cm[i, j],\n",
    "                 horizontalalignment=\"center\",\n",
    "                 color=\"white\" if cm[i, j] > thresh else \"black\")\n",
    "\n",
    "    plt.tight_layout()\n",
    "    plt.ylabel('True label')\n",
    "    plt.xlabel('Predicted label')"
   ]
  },
  {
   "cell_type": "code",
   "execution_count": 35,
   "metadata": {},
   "outputs": [
    {
     "name": "stdout",
     "output_type": "stream",
     "text": [
      "Confusion matrix, without normalization\n",
      "[[1285   19]\n",
      " [1111   14]]\n"
     ]
    },
    {
     "data": {
      "image/png": "[encoded data removed]",
      "text/plain": [
       "<Figure size 432x288 with 2 Axes>"
      ]
     },
     "metadata": {
      "needs_background": "light"
     },
     "output_type": "display_data"
    }
   ],
   "source": [
    "np.set_printoptions(precision=2)\n",
    "\n",
    "# Plot non-normalized confusion matrix\n",
    "plt.figure()\n",
    "plot_confusion_matrix(cnf_matrix, classes=[0, 1],\n",
    "                      title='Confusion matrix, without normalization')"
   ]
  },
  {
   "cell_type": "code",
   "execution_count": 36,
   "metadata": {},
   "outputs": [
    {
     "data": {
      "image/png": "[encoded data removed]",
      "text/plain": [
       "<Figure size 432x288 with 1 Axes>"
      ]
     },
     "metadata": {
      "needs_background": "light"
     },
     "output_type": "display_data"
    }
   ],
   "source": [
    "plt.hist(data.y_pred.values, bins=100)\n",
    "plt.show()"
   ]
  }
 ],
 "metadata": {
  "kernelspec": {
   "display_name": "Python 3",
   "language": "python",
   "name": "python3"
  },
  "language_info": {
   "codemirror_mode": {
    "name": "ipython",
    "version": 3
   },
   "file_extension": ".py",
   "mimetype": "text/x-python",
   "name": "python",
   "nbconvert_exporter": "python",
   "pygments_lexer": "ipython3",
   "version": "3.7.6"
  }
 },
 "nbformat": 4,
 "nbformat_minor": 4
}
