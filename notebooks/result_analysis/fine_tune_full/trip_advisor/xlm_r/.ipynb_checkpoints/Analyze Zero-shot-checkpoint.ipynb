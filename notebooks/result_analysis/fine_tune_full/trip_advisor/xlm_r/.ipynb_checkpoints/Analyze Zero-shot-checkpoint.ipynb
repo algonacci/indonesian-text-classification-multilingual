{
 "cells": [
  {
   "cell_type": "markdown",
   "metadata": {},
   "source": [
    "# Analyze Zero-shot"
   ]
  },
  {
   "cell_type": "code",
   "execution_count": 1,
   "metadata": {},
   "outputs": [],
   "source": [
    "import pandas as pd\n",
    "import numpy as np\n",
    "import re\n",
    "from sklearn.model_selection import train_test_split\n",
    "import torch\n",
    "from torch.utils.data.sampler import SubsetRandomSampler\n",
    "from torch.utils.data import TensorDataset, DataLoader\n",
    "\n",
    "RANDOM_SEED=1\n",
    "\n",
    "def set_random_seed_data(seed):\n",
    "    RANDOM_SEED = seed\n",
    "\n",
    "def lowercase(text):\n",
    "    return text.lower()\n",
    "\n",
    "def remove_nonaplhanumeric(text):\n",
    "    text = re.sub('[^0-9a-zA-Z]+', ' ', text) \n",
    "    return text\n",
    "\n",
    "def remove_unnecessary_char(text):\n",
    "    text = re.sub('\\n',' ',text) # Remove every '\\n'\n",
    "    text = re.sub('((www\\.[^\\s]+)|(https?://[^\\s]+)|(http?://[^\\s]+))',' ',text) # Remove every URL\n",
    "    text = re.sub('  +', ' ', text) # Remove extra spaces\n",
    "    text = text.strip()\n",
    "    return text\n",
    "\n",
    "def preprocess_text(text):\n",
    "    text = lowercase(text)\n",
    "    text = remove_nonaplhanumeric(text)\n",
    "    text = remove_unnecessary_char(text)\n",
    "    return text\n",
    "\n",
    "def load_data(PATH):\n",
    "    test = pd.read_csv(PATH)\n",
    "    test = test.rename(columns={\"content\": \"text\", \"polarity\": \"label\"})\n",
    "    test['label'] = test['label'].apply(lambda x: 1 if x==\"positive\" else 0)\n",
    "    test['text'] = test['text'].apply(lambda x: preprocess_text(x))\n",
    "    \n",
    "    return test"
   ]
  },
  {
   "cell_type": "code",
   "execution_count": 2,
   "metadata": {},
   "outputs": [
    {
     "data": {
      "text/html": [
       "<div>\n",
       "<style scoped>\n",
       "    .dataframe tbody tr th:only-of-type {\n",
       "        vertical-align: middle;\n",
       "    }\n",
       "\n",
       "    .dataframe tbody tr th {\n",
       "        vertical-align: top;\n",
       "    }\n",
       "\n",
       "    .dataframe thead th {\n",
       "        text-align: right;\n",
       "    }\n",
       "</style>\n",
       "<table border=\"1\" class=\"dataframe\">\n",
       "  <thead>\n",
       "    <tr style=\"text-align: right;\">\n",
       "      <th></th>\n",
       "      <th>text</th>\n",
       "      <th>label</th>\n",
       "    </tr>\n",
       "  </thead>\n",
       "  <tbody>\n",
       "    <tr>\n",
       "      <th>0</th>\n",
       "      <td>kekecewaan untuk ritz standar menginap number ...</td>\n",
       "      <td>0</td>\n",
       "    </tr>\n",
       "    <tr>\n",
       "      <th>1</th>\n",
       "      <td>kekecewaan untuk ritz standar menginap number ...</td>\n",
       "      <td>0</td>\n",
       "    </tr>\n",
       "    <tr>\n",
       "      <th>2</th>\n",
       "      <td>kekurangan number tidak ada fasilitas apapun l...</td>\n",
       "      <td>0</td>\n",
       "    </tr>\n",
       "    <tr>\n",
       "      <th>3</th>\n",
       "      <td>kelebihan lokasi strategis breakfast standard ...</td>\n",
       "      <td>0</td>\n",
       "    </tr>\n",
       "    <tr>\n",
       "      <th>4</th>\n",
       "      <td>kelebihan kamar luas dan ada balkon di setiap ...</td>\n",
       "      <td>0</td>\n",
       "    </tr>\n",
       "  </tbody>\n",
       "</table>\n",
       "</div>"
      ],
      "text/plain": [
       "                                                text  label\n",
       "0  kekecewaan untuk ritz standar menginap number ...      0\n",
       "1  kekecewaan untuk ritz standar menginap number ...      0\n",
       "2  kekurangan number tidak ada fasilitas apapun l...      0\n",
       "3  kelebihan lokasi strategis breakfast standard ...      0\n",
       "4  kelebihan kamar luas dan ada balkon di setiap ...      0"
      ]
     },
     "execution_count": 2,
     "metadata": {},
     "output_type": "execute_result"
    }
   ],
   "source": [
    "test = load_data('../../../../../data/trip_advisor/test_set.csv')\n",
    "test.head()"
   ]
  },
  {
   "cell_type": "markdown",
   "metadata": {},
   "source": [
    "# Zero-shot"
   ]
  },
  {
   "cell_type": "code",
   "execution_count": 3,
   "metadata": {},
   "outputs": [
    {
     "data": {
      "text/html": [
       "<div>\n",
       "<style scoped>\n",
       "    .dataframe tbody tr th:only-of-type {\n",
       "        vertical-align: middle;\n",
       "    }\n",
       "\n",
       "    .dataframe tbody tr th {\n",
       "        vertical-align: top;\n",
       "    }\n",
       "\n",
       "    .dataframe thead th {\n",
       "        text-align: right;\n",
       "    }\n",
       "</style>\n",
       "<table border=\"1\" class=\"dataframe\">\n",
       "  <thead>\n",
       "    <tr style=\"text-align: right;\">\n",
       "      <th></th>\n",
       "      <th>y_pred</th>\n",
       "      <th>y_true</th>\n",
       "      <th>y_pred_int</th>\n",
       "      <th>text</th>\n",
       "    </tr>\n",
       "  </thead>\n",
       "  <tbody>\n",
       "    <tr>\n",
       "      <th>0</th>\n",
       "      <td>0.000001</td>\n",
       "      <td>0</td>\n",
       "      <td>0</td>\n",
       "      <td>kekecewaan untuk ritz standar menginap number ...</td>\n",
       "    </tr>\n",
       "    <tr>\n",
       "      <th>1</th>\n",
       "      <td>0.000001</td>\n",
       "      <td>0</td>\n",
       "      <td>0</td>\n",
       "      <td>kekecewaan untuk ritz standar menginap number ...</td>\n",
       "    </tr>\n",
       "    <tr>\n",
       "      <th>2</th>\n",
       "      <td>0.000003</td>\n",
       "      <td>0</td>\n",
       "      <td>0</td>\n",
       "      <td>kekurangan number tidak ada fasilitas apapun l...</td>\n",
       "    </tr>\n",
       "    <tr>\n",
       "      <th>3</th>\n",
       "      <td>0.022633</td>\n",
       "      <td>0</td>\n",
       "      <td>0</td>\n",
       "      <td>kelebihan lokasi strategis breakfast standard ...</td>\n",
       "    </tr>\n",
       "    <tr>\n",
       "      <th>4</th>\n",
       "      <td>0.004969</td>\n",
       "      <td>0</td>\n",
       "      <td>0</td>\n",
       "      <td>kelebihan kamar luas dan ada balkon di setiap ...</td>\n",
       "    </tr>\n",
       "  </tbody>\n",
       "</table>\n",
       "</div>"
      ],
      "text/plain": [
       "     y_pred  y_true  y_pred_int  \\\n",
       "0  0.000001       0           0   \n",
       "1  0.000001       0           0   \n",
       "2  0.000003       0           0   \n",
       "3  0.022633       0           0   \n",
       "4  0.004969       0           0   \n",
       "\n",
       "                                                text  \n",
       "0  kekecewaan untuk ritz standar menginap number ...  \n",
       "1  kekecewaan untuk ritz standar menginap number ...  \n",
       "2  kekurangan number tidak ada fasilitas apapun l...  \n",
       "3  kelebihan lokasi strategis breakfast standard ...  \n",
       "4  kelebihan kamar luas dan ada balkon di setiap ...  "
      ]
     },
     "execution_count": 3,
     "metadata": {},
     "output_type": "execute_result"
    }
   ],
   "source": [
    "data = pd.read_csv('result_trip_advisor_yelp_XLM_R_A_12389_0.5_full.csv')\n",
    "data['y_pred_int'] = data['y_pred'].apply(lambda x: int(x>=0.5))\n",
    "data['text'] = test['text'].values\n",
    "data.head()"
   ]
  },
  {
   "cell_type": "code",
   "execution_count": 6,
   "metadata": {},
   "outputs": [
    {
     "name": "stdout",
     "output_type": "stream",
     "text": [
      "\n",
      "y_pred: 0.56072086\n",
      "y_true: 1\n",
      "text: berlibur kejogja mampir kegrandzuri menginap semalam ternyata nyaman sekali fasilitas bagus semua sarapan enak dan terutama paling saya suka stafnya ramah sekali menyambut dengan baik gandzuri best location in jogja\n",
      "\n",
      "y_pred: 0.5125987\n",
      "y_true: 1\n",
      "text: berliner brotfabrik konditorei dan cafe tempat kumpul kumpul yang asyik di tasikmalaya tempatnya nyaman banget dengan citarasa eropa barat per germanya di kota tasikmalaya\n",
      "\n",
      "y_pred: 0.99963415\n",
      "y_true: 1\n",
      "text: bernilai untuk uang keramahan luar biasa staf yang sangat baik rapi bersih terawat dengan baik tempat yang tenang dan pribadi mencintai saya tinggal saya akan merekomendasikan ke teman dekat selalu tempat ini sangat dekat dengan pusat perbelanjaan pantai dan bandara\n",
      "\n",
      "y_pred: 0.73968095\n",
      "y_true: 1\n",
      "text: berokasi di cikini raya dengan nuansa ala eropa bakul kofee menyediakan ruang nostalgia dengan dua lantai yang luas dan nyaman menyajikan aneka kopi yang harum kue kue dan panganan kecil khas tempo dulu serta menu menu original yang kreatif bakul koffie menjadi tempat duduk duduk yang stylish dan nyaman furnitur yang senada atmosfir awal abad ke number yang kental serta pajangan pajangan yang ditata lanjutan\n",
      "\n",
      "y_pred: 0.9294756\n",
      "y_true: 1\n",
      "text: berry glee adalah hotel yang luar biasa menginap di tematik wonderland dan merasakan pengalaman yang nyaman dan bahagia untuk breakfast tempatnya asik makanan enak dan kolam renangnya kece ada kid station juga\n",
      "\n",
      "y_pred: 0.9294756\n",
      "y_true: 1\n",
      "text: berry glee adalah hotel yang luar biasa menginap di tematik wonderland dan merasakan pengalaman yang nyaman dan bahagia untuk breakfast tempatnya asik makanan enak dan kolam renangnya kece ada kid station juga\n",
      "\n",
      "y_pred: 0.86626047\n",
      "y_true: 1\n",
      "text: bersih nyaman dan aman nyaman bila bersama keluarga dan beramai ramai wajib di coba apalagi bila ada anak kecil sangay aman dan berfariasi permainannya karyawannya juga ramah sekali wajib banger deh\n",
      "\n",
      "y_pred: 0.86626047\n",
      "y_true: 1\n",
      "text: bersih nyaman dan aman nyaman bila bersama keluarga dan beramai ramai wajib di coba apalagi bila ada anak kecil sangay aman dan berfariasi permainannya karyawannya juga ramah sekali wajib banger deh\n",
      "\n",
      "y_pred: 0.69538885\n",
      "y_true: 1\n",
      "text: bersih nyaman ramah dan sangat dekat dengan pusat wisata di yogyakarta sehingga sangat strategis menginap di hotel grand zuri secara umum sangat menyenangkan selama beberapa hari menginap disana\n",
      "\n",
      "y_pred: 0.9772675999999999\n",
      "y_true: 1\n",
      "text: bersyukur dipilihkan hotel ini untuk menginap saya dan rekan rekan sangat senang dapat kamar ac nya dingin banget terus sarapan dan makan malamnya nya memuaskan eh ada jamu juga pas banget buat ibu ibu he tinggal shopping saja jalan dikit ke daerah cihampelas sebelum pulang keep up the good work tjokro\n",
      "\n",
      "y_pred: 0.9772675999999999\n",
      "y_true: 1\n",
      "text: bersyukur dipilihkan hotel ini untuk menginap saya dan rekan rekan sangat senang dapat kamar ac nya dingin banget terus sarapan dan makan malamnya nya memuaskan eh ada jamu juga pas banget buat ibu ibu he tinggal shopping saja jalan dikit ke daerah cihampelas sebelum pulang keep up the good work tjokro\n",
      "\n",
      "y_pred: 0.996527\n",
      "y_true: 1\n",
      "text: bertahan diantara begitu banyaknya pilihan kuliner di kota bandung pasti ada yang istimewa harus diakui kalau pangsit rebusnya sangat enak ringan dimulut dan lembut tempatnya nyg sedikit tersembunyi membuat pengunjung merasa nyaman di dalamnya\n",
      "\n",
      "y_pred: 0.9381771999999999\n",
      "y_true: 1\n",
      "text: berulang kali makan seafood hanya disini yang daging kepitingnya tidak kopong besar dan bumbunya enak banget ok banget untuk ramai ramai karena tempatnya luas\n",
      "\n",
      "y_pred: 0.79564095\n",
      "y_true: 1\n",
      "text: beruntung kesini bisa ngerasain ikan barakuda karna jarang jarang ada ikan ini di rumah makan ikannya seger bumbu bakarannya juga enak yang jelas dibakar langsung tanpa digoreng dulu udangnya harus coba enaak sambel colo colo sama gami gaminya juara\n"
     ]
    }
   ],
   "source": [
    "for i in range(0, data.shape[0]):\n",
    "    if (data.loc[i].y_pred_int == data.loc[i].y_true) and data.loc[i].y_true==1:\n",
    "        print(\"\\ny_pred: {}\".format(data.loc[i].y_pred))\n",
    "        print(\"y_true: {}\".format(data.loc[i].y_true))        \n",
    "        print(\"text: {}\".format(data.loc[i].text))      "
   ]
  },
  {
   "cell_type": "code",
   "execution_count": 8,
   "metadata": {},
   "outputs": [],
   "source": [
    "from sklearn.metrics import confusion_matrix"
   ]
  },
  {
   "cell_type": "code",
   "execution_count": 9,
   "metadata": {},
   "outputs": [
    {
     "name": "stdout",
     "output_type": "stream",
     "text": [
      "[[1285   19]\n",
      " [1111   14]]\n"
     ]
    }
   ],
   "source": [
    "cnf_matrix = confusion_matrix(data.y_true.values, data.y_pred_int.values)\n",
    "print(cnf_matrix)"
   ]
  },
  {
   "cell_type": "code",
   "execution_count": 16,
   "metadata": {},
   "outputs": [],
   "source": [
    "import matplotlib.pyplot as plt\n",
    "import itertools\n",
    "def plot_confusion_matrix(cm, classes,\n",
    "                          normalize=False,\n",
    "                          title='Confusion matrix',\n",
    "                          cmap=plt.cm.Blues):\n",
    "    \"\"\"\n",
    "    This function prints and plots the confusion matrix.\n",
    "    Normalization can be applied by setting `normalize=True`.\n",
    "    \"\"\"\n",
    "    plt.imshow(cm, interpolation='nearest', cmap=cmap)\n",
    "    plt.title(title)\n",
    "    plt.colorbar()\n",
    "    tick_marks = np.arange(len(classes))\n",
    "    plt.xticks(tick_marks, classes)\n",
    "    plt.yticks(tick_marks, classes)\n",
    "\n",
    "    if normalize:\n",
    "        cm = cm.astype('float') / cm.sum(axis=1)[:, np.newaxis]\n",
    "        print(\"Normalized confusion matrix\")\n",
    "    else:\n",
    "        print('Confusion matrix, without normalization')\n",
    "\n",
    "    print(cm)\n",
    "\n",
    "    thresh = cm.max() / 2.\n",
    "    for i, j in itertools.product(range(cm.shape[0]), range(cm.shape[1])):\n",
    "        plt.text(j, i, cm[i, j],\n",
    "                 horizontalalignment=\"center\",\n",
    "                 color=\"white\" if cm[i, j] > thresh else \"black\")\n",
    "\n",
    "    plt.tight_layout()\n",
    "    plt.ylabel('True label')\n",
    "    plt.xlabel('Predicted label')"
   ]
  },
  {
   "cell_type": "code",
   "execution_count": 17,
   "metadata": {},
   "outputs": [
    {
     "name": "stdout",
     "output_type": "stream",
     "text": [
      "Confusion matrix, without normalization\n",
      "[[1285   19]\n",
      " [1111   14]]\n"
     ]
    },
    {
     "data": {
      "image/png": "[encoded data removed]",
      "text/plain": [
       "<Figure size 432x288 with 2 Axes>"
      ]
     },
     "metadata": {
      "needs_background": "light"
     },
     "output_type": "display_data"
    }
   ],
   "source": [
    "np.set_printoptions(precision=2)\n",
    "\n",
    "# Plot non-normalized confusion matrix\n",
    "plt.figure()\n",
    "plot_confusion_matrix(cnf_matrix, classes=[0, 1],\n",
    "                      title='Confusion matrix, without normalization')"
   ]
  },
  {
   "cell_type": "code",
   "execution_count": null,
   "metadata": {},
   "outputs": [],
   "source": []
  }
 ],
 "metadata": {
  "kernelspec": {
   "display_name": "Python 3",
   "language": "python",
   "name": "python3"
  },
  "language_info": {
   "codemirror_mode": {
    "name": "ipython",
    "version": 3
   },
   "file_extension": ".py",
   "mimetype": "text/x-python",
   "name": "python",
   "nbconvert_exporter": "python",
   "pygments_lexer": "ipython3",
   "version": "3.7.6"
  }
 },
 "nbformat": 4,
 "nbformat_minor": 4
}
