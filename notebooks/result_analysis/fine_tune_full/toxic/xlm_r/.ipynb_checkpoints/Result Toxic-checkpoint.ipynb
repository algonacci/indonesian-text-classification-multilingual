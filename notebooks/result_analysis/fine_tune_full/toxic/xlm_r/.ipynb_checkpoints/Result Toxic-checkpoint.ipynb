{
 "cells": [
  {
   "cell_type": "markdown",
   "metadata": {},
   "source": [
    "# Toxic"
   ]
  },
  {
   "cell_type": "code",
   "execution_count": 6,
   "metadata": {},
   "outputs": [],
   "source": [
    "from sklearn.metrics import classification_report\n",
    "from sklearn.metrics import f1_score, recall_score, precision_score\n",
    "from sklearn.metrics import accuracy_score\n",
    "import matplotlib.pyplot as plt\n",
    "from matplotlib.pyplot import figure, xticks\n",
    "%matplotlib inline"
   ]
  },
  {
   "cell_type": "code",
   "execution_count": 7,
   "metadata": {},
   "outputs": [],
   "source": [
    "def evaluate(y_true, y_pred_proba, debug=False):\n",
    "    max_threshold = -1\n",
    "    max_f1 = 0\n",
    "    max_recall = 0\n",
    "    max_precision = 0\n",
    "    mac_acc = 0\n",
    "\n",
    "#     for THRESHOLD in range(50, 51):\n",
    "    for THRESHOLD in range(0, 100):\n",
    "        THRESHOLD = THRESHOLD/100\n",
    "        y_pred_thr = [1 if x>=THRESHOLD else 0 for x in y_pred_proba]\n",
    "        f1 = f1_score(y_true, y_pred_thr, average='macro')\n",
    "        recall = recall_score(y_true, y_pred_thr)\n",
    "        precision = precision_score(y_true, y_pred_thr)\n",
    "        acc = accuracy_score(y_true, y_pred_thr)\n",
    "        \n",
    "        if debug:\n",
    "            print(\"THRESHOLD: {:.3f} \\tF1: {:.8f} \\tRecall: {:.8f} \\tPrecision: {:.8f}\".format(THRESHOLD, \n",
    "                                                                                               f1, \n",
    "                                                                                               recall, \n",
    "                                                                                               precision))\n",
    "\n",
    "        if f1>max_f1:\n",
    "            max_f1 = f1\n",
    "            max_recall = recall\n",
    "            max_precision = precision\n",
    "            mac_acc = acc\n",
    "            max_threshold = THRESHOLD\n",
    "            \n",
    "    print(\"##MAX## \\nTHRESHOLD: {:.3f} \\tF1: {:.8f} \\tRecall: {:.8f} \\tPrec: {:.8f} \\tAcc: {:.8f}\".format(max_threshold,\n",
    "                                                                                                         max_f1, \n",
    "                                                                                                         max_recall, \n",
    "                                                                                                         max_precision,\n",
    "                                                                                                         mac_acc))\n",
    "    return max_f1, max_recall, max_precision, mac_acc"
   ]
  },
  {
   "cell_type": "code",
   "execution_count": 8,
   "metadata": {},
   "outputs": [],
   "source": [
    "import pandas as pd"
   ]
  },
  {
   "cell_type": "code",
   "execution_count": 11,
   "metadata": {},
   "outputs": [
    {
     "name": "stdout",
     "output_type": "stream",
     "text": [
      "Result: type A mult 0.5\n",
      "##MAX## \n",
      "THRESHOLD: 0.260 \tF1: 0.87099633 \tRecall: 0.90424077 \tPrec: 0.87203166 \tAcc: 0.87319666\n",
      "Result: type B mult 0.5\n"
     ]
    },
    {
     "name": "stderr",
     "output_type": "stream",
     "text": [
      "C:\\Users\\Ilham\\.conda\\envs\\main\\lib\\site-packages\\sklearn\\metrics\\_classification.py:1272: UndefinedMetricWarning: Precision is ill-defined and being set to 0.0 due to no predicted samples. Use `zero_division` parameter to control this behavior.\n",
      "  _warn_prf(average, modifier, msg_start, len(result))\n"
     ]
    },
    {
     "name": "stdout",
     "output_type": "stream",
     "text": [
      "##MAX## \n",
      "THRESHOLD: 0.650 \tF1: 0.57982013 \tRecall: 0.69904241 \tPrec: 0.61864407 \tAcc: 0.59377373\n",
      "Result: type C mult 0.5\n",
      "##MAX## \n",
      "THRESHOLD: 0.660 \tF1: 0.88489533 \tRecall: 0.89056088 \tPrec: 0.90291262 \tAcc: 0.88610478\n",
      "Result: type C mult 1\n",
      "##MAX## \n",
      "THRESHOLD: 0.340 \tF1: 0.89266875 \tRecall: 0.92202462 \tPrec: 0.89153439 \tAcc: 0.89445710\n"
     ]
    }
   ],
   "source": [
    "TOTAL_DATA = 11852\n",
    "type_list = ['A', 'B', 'C']\n",
    "type_C_mult = [0.5, 1]\n",
    "result_list = []\n",
    "\n",
    "for EXPERIMENT_TYPE in type_list:\n",
    "    for mult in type_C_mult:\n",
    "        print(\"Result: type {} mult {}\".format(EXPERIMENT_TYPE, mult))\n",
    "        data = pd.read_csv('result_toxic_toxic_XLM_R_{}_11852_{}_full.csv'.format(EXPERIMENT_TYPE, mult))\n",
    "        max_f1, max_recall, max_precision, max_acc = evaluate(data.y_true.values, data.y_pred.values, debug=False)\n",
    "        \n",
    "        if EXPERIMENT_TYPE == 'A':\n",
    "            mult = 0\n",
    "        if EXPERIMENT_TYPE == 'B':\n",
    "            mult = -1\n",
    "            \n",
    "            \n",
    "        result_list.append({\n",
    "            'tipe': EXPERIMENT_TYPE,\n",
    "            'total_data': TOTAL_DATA, \n",
    "            'foreign_mult': mult,\n",
    "            'total_foreign_data':int(TOTAL_DATA*mult) if EXPERIMENT_TYPE=='C' else 0,\n",
    "            'max_f1': max_f1,\n",
    "            'max_recall': max_recall,\n",
    "            'max_precision': max_precision,\n",
    "            'max_accuracy': max_acc\n",
    "        })\n",
    "        \n",
    "        if EXPERIMENT_TYPE != 'C':\n",
    "            break"
   ]
  },
  {
   "cell_type": "code",
   "execution_count": 13,
   "metadata": {},
   "outputs": [
    {
     "name": "stdout",
     "output_type": "stream",
     "text": [
      "(4, 8)\n"
     ]
    },
    {
     "data": {
      "text/html": [
       "<div>\n",
       "<style scoped>\n",
       "    .dataframe tbody tr th:only-of-type {\n",
       "        vertical-align: middle;\n",
       "    }\n",
       "\n",
       "    .dataframe tbody tr th {\n",
       "        vertical-align: top;\n",
       "    }\n",
       "\n",
       "    .dataframe thead th {\n",
       "        text-align: right;\n",
       "    }\n",
       "</style>\n",
       "<table border=\"1\" class=\"dataframe\">\n",
       "  <thead>\n",
       "    <tr style=\"text-align: right;\">\n",
       "      <th></th>\n",
       "      <th>tipe</th>\n",
       "      <th>total_data</th>\n",
       "      <th>foreign_mult</th>\n",
       "      <th>total_foreign_data</th>\n",
       "      <th>max_f1</th>\n",
       "      <th>max_recall</th>\n",
       "      <th>max_precision</th>\n",
       "      <th>max_accuracy</th>\n",
       "    </tr>\n",
       "  </thead>\n",
       "  <tbody>\n",
       "    <tr>\n",
       "      <th>0</th>\n",
       "      <td>A</td>\n",
       "      <td>11852</td>\n",
       "      <td>0.0</td>\n",
       "      <td>0</td>\n",
       "      <td>0.870996</td>\n",
       "      <td>0.904241</td>\n",
       "      <td>0.872032</td>\n",
       "      <td>0.873197</td>\n",
       "    </tr>\n",
       "    <tr>\n",
       "      <th>1</th>\n",
       "      <td>B</td>\n",
       "      <td>11852</td>\n",
       "      <td>-1.0</td>\n",
       "      <td>0</td>\n",
       "      <td>0.579820</td>\n",
       "      <td>0.699042</td>\n",
       "      <td>0.618644</td>\n",
       "      <td>0.593774</td>\n",
       "    </tr>\n",
       "    <tr>\n",
       "      <th>2</th>\n",
       "      <td>C</td>\n",
       "      <td>11852</td>\n",
       "      <td>0.5</td>\n",
       "      <td>5926</td>\n",
       "      <td>0.884895</td>\n",
       "      <td>0.890561</td>\n",
       "      <td>0.902913</td>\n",
       "      <td>0.886105</td>\n",
       "    </tr>\n",
       "    <tr>\n",
       "      <th>3</th>\n",
       "      <td>C</td>\n",
       "      <td>11852</td>\n",
       "      <td>1.0</td>\n",
       "      <td>11852</td>\n",
       "      <td>0.892669</td>\n",
       "      <td>0.922025</td>\n",
       "      <td>0.891534</td>\n",
       "      <td>0.894457</td>\n",
       "    </tr>\n",
       "  </tbody>\n",
       "</table>\n",
       "</div>"
      ],
      "text/plain": [
       "  tipe  total_data  foreign_mult  total_foreign_data    max_f1  max_recall  \\\n",
       "0    A       11852           0.0                   0  0.870996    0.904241   \n",
       "1    B       11852          -1.0                   0  0.579820    0.699042   \n",
       "2    C       11852           0.5                5926  0.884895    0.890561   \n",
       "3    C       11852           1.0               11852  0.892669    0.922025   \n",
       "\n",
       "   max_precision  max_accuracy  \n",
       "0       0.872032      0.873197  \n",
       "1       0.618644      0.593774  \n",
       "2       0.902913      0.886105  \n",
       "3       0.891534      0.894457  "
      ]
     },
     "execution_count": 13,
     "metadata": {},
     "output_type": "execute_result"
    }
   ],
   "source": [
    "final_result = pd.DataFrame(result_list) \n",
    "final_result.to_csv('final_{}_{}_{}_result_combined_{}.csv'.format('toxic',\n",
    "                                                                   'toxic',\n",
    "                                                                   'xlm_r',\n",
    "                                                                   TOTAL_DATA),\n",
    "                    index=False)\n",
    "    \n",
    "print(final_result.shape)\n",
    "final_result.head()"
   ]
  },
  {
   "cell_type": "code",
   "execution_count": 14,
   "metadata": {},
   "outputs": [
    {
     "data": {
      "text/html": [
       "<div>\n",
       "<style scoped>\n",
       "    .dataframe tbody tr th:only-of-type {\n",
       "        vertical-align: middle;\n",
       "    }\n",
       "\n",
       "    .dataframe tbody tr th {\n",
       "        vertical-align: top;\n",
       "    }\n",
       "\n",
       "    .dataframe thead th {\n",
       "        text-align: right;\n",
       "    }\n",
       "</style>\n",
       "<table border=\"1\" class=\"dataframe\">\n",
       "  <thead>\n",
       "    <tr style=\"text-align: right;\">\n",
       "      <th></th>\n",
       "      <th>tipe</th>\n",
       "      <th>total_data</th>\n",
       "      <th>foreign_mult</th>\n",
       "      <th>total_foreign_data</th>\n",
       "      <th>max_f1</th>\n",
       "      <th>max_recall</th>\n",
       "      <th>max_precision</th>\n",
       "      <th>max_accuracy</th>\n",
       "    </tr>\n",
       "  </thead>\n",
       "  <tbody>\n",
       "    <tr>\n",
       "      <th>1</th>\n",
       "      <td>B</td>\n",
       "      <td>11852</td>\n",
       "      <td>-1.0</td>\n",
       "      <td>0</td>\n",
       "      <td>0.579820</td>\n",
       "      <td>0.699042</td>\n",
       "      <td>0.618644</td>\n",
       "      <td>0.593774</td>\n",
       "    </tr>\n",
       "    <tr>\n",
       "      <th>0</th>\n",
       "      <td>A</td>\n",
       "      <td>11852</td>\n",
       "      <td>0.0</td>\n",
       "      <td>0</td>\n",
       "      <td>0.870996</td>\n",
       "      <td>0.904241</td>\n",
       "      <td>0.872032</td>\n",
       "      <td>0.873197</td>\n",
       "    </tr>\n",
       "    <tr>\n",
       "      <th>2</th>\n",
       "      <td>C</td>\n",
       "      <td>11852</td>\n",
       "      <td>0.5</td>\n",
       "      <td>5926</td>\n",
       "      <td>0.884895</td>\n",
       "      <td>0.890561</td>\n",
       "      <td>0.902913</td>\n",
       "      <td>0.886105</td>\n",
       "    </tr>\n",
       "    <tr>\n",
       "      <th>3</th>\n",
       "      <td>C</td>\n",
       "      <td>11852</td>\n",
       "      <td>1.0</td>\n",
       "      <td>11852</td>\n",
       "      <td>0.892669</td>\n",
       "      <td>0.922025</td>\n",
       "      <td>0.891534</td>\n",
       "      <td>0.894457</td>\n",
       "    </tr>\n",
       "  </tbody>\n",
       "</table>\n",
       "</div>"
      ],
      "text/plain": [
       "  tipe  total_data  foreign_mult  total_foreign_data    max_f1  max_recall  \\\n",
       "1    B       11852          -1.0                   0  0.579820    0.699042   \n",
       "0    A       11852           0.0                   0  0.870996    0.904241   \n",
       "2    C       11852           0.5                5926  0.884895    0.890561   \n",
       "3    C       11852           1.0               11852  0.892669    0.922025   \n",
       "\n",
       "   max_precision  max_accuracy  \n",
       "1       0.618644      0.593774  \n",
       "0       0.872032      0.873197  \n",
       "2       0.902913      0.886105  \n",
       "3       0.891534      0.894457  "
      ]
     },
     "execution_count": 14,
     "metadata": {},
     "output_type": "execute_result"
    }
   ],
   "source": [
    "data = pd.read_csv('final_toxic_toxic_xlm_r_result_combined_11852.csv')\n",
    "data = data.sort_values(by=['foreign_mult'])\n",
    "data.head()"
   ]
  },
  {
   "cell_type": "code",
   "execution_count": 17,
   "metadata": {},
   "outputs": [
    {
     "data": {
      "image/png": "[encoded data removed]",
      "text/plain": [
       "<Figure size 640x480 with 1 Axes>"
      ]
     },
     "metadata": {},
     "output_type": "display_data"
    }
   ],
   "source": [
    "figure(num=None, figsize=(8, 6), dpi=80, facecolor='w', edgecolor='k')\n",
    "\n",
    "\n",
    "plt.plot(data[(data['total_data'] == 11852 )].foreign_mult.values, data[(data['total_data'] == 11852)].max_f1.values)\n",
    "    \n",
    "plt.plot(data[(data['tipe'] == 'A' )].foreign_mult.values,\n",
    "data[(data['tipe'] == 'A')].max_f1.values,\n",
    "'go',\n",
    "label='Trained using only Indonesian text')\n",
    "\n",
    "plt.plot(data[(data['tipe'] == 'B' )].foreign_mult.values,\n",
    "data[(data['tipe'] == 'B')].max_f1.values,\n",
    "'ro',\n",
    "label='Trained using only English text')\n",
    "\n",
    "xticks([-1, 0, 1, 2, 3], ['Zero-shot', 0, 1, 2, 3])\n",
    "\n",
    "plt.legend(loc=\"lower right\")\n",
    "plt.xlabel('Kelipatan data bahasa Inggris')\n",
    "plt.ylabel('F1 Score')\n",
    "plt.title('')\n",
    "plt.savefig('plot.png')\n",
    "plt.show()"
   ]
  },
  {
   "cell_type": "code",
   "execution_count": null,
   "metadata": {},
   "outputs": [],
   "source": []
  }
 ],
 "metadata": {
  "kernelspec": {
   "display_name": "Python 3",
   "language": "python",
   "name": "python3"
  },
  "language_info": {
   "codemirror_mode": {
    "name": "ipython",
    "version": 3
   },
   "file_extension": ".py",
   "mimetype": "text/x-python",
   "name": "python",
   "nbconvert_exporter": "python",
   "pygments_lexer": "ipython3",
   "version": "3.7.6"
  }
 },
 "nbformat": 4,
 "nbformat_minor": 4
}
