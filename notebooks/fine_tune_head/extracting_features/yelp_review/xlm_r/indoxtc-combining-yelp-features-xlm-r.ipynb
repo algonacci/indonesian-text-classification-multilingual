{
 "cells": [
  {
   "cell_type": "markdown",
   "metadata": {},
   "source": [
    "# IndoXTC - Combining Yelp Features [XLM-R]\n",
    "Exploring Indonesian hate speech/abusive & sentiment text classification using multilingual language model.\n",
    "\n",
    "This kernel is a part of my undergraduate final year project.\n",
    "Checkout the full github repository:\n",
    "https://github.com/ilhamfp/indonesian-text-classification-multilingual"
   ]
  },
  {
   "cell_type": "code",
   "execution_count": 1,
   "metadata": {
    "_cell_guid": "b1076dfc-b9ad-4769-8c92-a6c4dae69d19",
    "_uuid": "8f2839f25d086af736a60e9eeb907d3b93b6e0e5"
   },
   "outputs": [
    {
     "name": "stdout",
     "output_type": "stream",
     "text": [
      "/kaggle/input/indoxtc-extracting-yelp-features-xlm-r-7/__results__.html\n",
      "/kaggle/input/indoxtc-extracting-yelp-features-xlm-r-7/train_text.npy\n",
      "/kaggle/input/indoxtc-extracting-yelp-features-xlm-r-7/train_label.csv\n",
      "/kaggle/input/indoxtc-extracting-yelp-features-xlm-r-7/__notebook__.ipynb\n",
      "/kaggle/input/indoxtc-extracting-yelp-features-xlm-r-7/custom.css\n",
      "/kaggle/input/indoxtc-extracting-yelp-features-xlm-r-7/__output__.json\n",
      "/kaggle/input/indoxtc-extracting-yelp-features-xlm-r-2/__results__.html\n",
      "/kaggle/input/indoxtc-extracting-yelp-features-xlm-r-2/train_text.npy\n",
      "/kaggle/input/indoxtc-extracting-yelp-features-xlm-r-2/train_label.csv\n",
      "/kaggle/input/indoxtc-extracting-yelp-features-xlm-r-2/__notebook__.ipynb\n",
      "/kaggle/input/indoxtc-extracting-yelp-features-xlm-r-2/custom.css\n",
      "/kaggle/input/indoxtc-extracting-yelp-features-xlm-r-2/__output__.json\n",
      "/kaggle/input/indoxtc-extracting-yelp-features-xlm-r-5/__results__.html\n",
      "/kaggle/input/indoxtc-extracting-yelp-features-xlm-r-5/train_text.npy\n",
      "/kaggle/input/indoxtc-extracting-yelp-features-xlm-r-5/train_label.csv\n",
      "/kaggle/input/indoxtc-extracting-yelp-features-xlm-r-5/__notebook__.ipynb\n",
      "/kaggle/input/indoxtc-extracting-yelp-features-xlm-r-5/custom.css\n",
      "/kaggle/input/indoxtc-extracting-yelp-features-xlm-r-5/__output__.json\n",
      "/kaggle/input/indoxtc-extracting-yelp-features-xlm-r-9/__results__.html\n",
      "/kaggle/input/indoxtc-extracting-yelp-features-xlm-r-9/train_text.npy\n",
      "/kaggle/input/indoxtc-extracting-yelp-features-xlm-r-9/train_label.csv\n",
      "/kaggle/input/indoxtc-extracting-yelp-features-xlm-r-9/__notebook__.ipynb\n",
      "/kaggle/input/indoxtc-extracting-yelp-features-xlm-r-9/custom.css\n",
      "/kaggle/input/indoxtc-extracting-yelp-features-xlm-r-9/__output__.json\n",
      "/kaggle/input/indoxtc-extracting-yelp-features-xlm-r-4/__results__.html\n",
      "/kaggle/input/indoxtc-extracting-yelp-features-xlm-r-4/train_text.npy\n",
      "/kaggle/input/indoxtc-extracting-yelp-features-xlm-r-4/train_label.csv\n",
      "/kaggle/input/indoxtc-extracting-yelp-features-xlm-r-4/__notebook__.ipynb\n",
      "/kaggle/input/indoxtc-extracting-yelp-features-xlm-r-4/custom.css\n",
      "/kaggle/input/indoxtc-extracting-yelp-features-xlm-r-4/__output__.json\n",
      "/kaggle/input/indoxtc-extracting-yelp-features-xlm-r-8/__results__.html\n",
      "/kaggle/input/indoxtc-extracting-yelp-features-xlm-r-8/train_text.npy\n",
      "/kaggle/input/indoxtc-extracting-yelp-features-xlm-r-8/train_label.csv\n",
      "/kaggle/input/indoxtc-extracting-yelp-features-xlm-r-8/__notebook__.ipynb\n",
      "/kaggle/input/indoxtc-extracting-yelp-features-xlm-r-8/custom.css\n",
      "/kaggle/input/indoxtc-extracting-yelp-features-xlm-r-8/__output__.json\n",
      "/kaggle/input/indoxtc-extracting-yelp-features-xlm-r-3/__results__.html\n",
      "/kaggle/input/indoxtc-extracting-yelp-features-xlm-r-3/train_text.npy\n",
      "/kaggle/input/indoxtc-extracting-yelp-features-xlm-r-3/train_label.csv\n",
      "/kaggle/input/indoxtc-extracting-yelp-features-xlm-r-3/__notebook__.ipynb\n",
      "/kaggle/input/indoxtc-extracting-yelp-features-xlm-r-3/custom.css\n",
      "/kaggle/input/indoxtc-extracting-yelp-features-xlm-r-3/__output__.json\n",
      "/kaggle/input/indoxtc-extracting-yelp-features-xlm-r-6/__results__.html\n",
      "/kaggle/input/indoxtc-extracting-yelp-features-xlm-r-6/train_text.npy\n",
      "/kaggle/input/indoxtc-extracting-yelp-features-xlm-r-6/train_label.csv\n",
      "/kaggle/input/indoxtc-extracting-yelp-features-xlm-r-6/__notebook__.ipynb\n",
      "/kaggle/input/indoxtc-extracting-yelp-features-xlm-r-6/custom.css\n",
      "/kaggle/input/indoxtc-extracting-yelp-features-xlm-r-6/__output__.json\n",
      "/kaggle/input/indoxtc-extracting-yelp-features-xlm-r-1/__results__.html\n",
      "/kaggle/input/indoxtc-extracting-yelp-features-xlm-r-1/train_text.npy\n",
      "/kaggle/input/indoxtc-extracting-yelp-features-xlm-r-1/train_label.csv\n",
      "/kaggle/input/indoxtc-extracting-yelp-features-xlm-r-1/__notebook__.ipynb\n",
      "/kaggle/input/indoxtc-extracting-yelp-features-xlm-r-1/custom.css\n",
      "/kaggle/input/indoxtc-extracting-yelp-features-xlm-r-1/__output__.json\n"
     ]
    }
   ],
   "source": [
    "import numpy as np\n",
    "import pandas as pd \n",
    "import os\n",
    "for dirname, _, filenames in os.walk('/kaggle/input'):\n",
    "    for filename in filenames:\n",
    "        print(os.path.join(dirname, filename))"
   ]
  },
  {
   "cell_type": "code",
   "execution_count": 2,
   "metadata": {
    "_cell_guid": "79c7e3d0-c299-4dcb-8224-4455121ee9b0",
    "_uuid": "d629ff2d2480ee46fbb7e2d37f6b5fab8052498a"
   },
   "outputs": [
    {
     "name": "stdout",
     "output_type": "stream",
     "text": [
      "(135000, 1, 1024)\n"
     ]
    }
   ],
   "source": [
    "train_x = np.concatenate([\n",
    "    np.array([x for x in np.load('../input/indoxtc-extracting-yelp-features-xlm-r-1/train_text.npy', allow_pickle=True)]),\n",
    "    np.array([x for x in np.load('../input/indoxtc-extracting-yelp-features-xlm-r-2/train_text.npy', allow_pickle=True)]),\n",
    "    np.array([x for x in np.load('../input/indoxtc-extracting-yelp-features-xlm-r-3/train_text.npy', allow_pickle=True)]),\n",
    "    np.array([x for x in np.load('../input/indoxtc-extracting-yelp-features-xlm-r-4/train_text.npy', allow_pickle=True)]),\n",
    "    np.array([x for x in np.load('../input/indoxtc-extracting-yelp-features-xlm-r-5/train_text.npy', allow_pickle=True)]),\n",
    "    np.array([x for x in np.load('../input/indoxtc-extracting-yelp-features-xlm-r-6/train_text.npy', allow_pickle=True)]),\n",
    "    np.array([x for x in np.load('../input/indoxtc-extracting-yelp-features-xlm-r-7/train_text.npy', allow_pickle=True)]),\n",
    "    np.array([x for x in np.load('../input/indoxtc-extracting-yelp-features-xlm-r-8/train_text.npy', allow_pickle=True)]),\n",
    "    np.array([x for x in np.load('../input/indoxtc-extracting-yelp-features-xlm-r-9/train_text.npy', allow_pickle=True)]),\n",
    "                  ])\n",
    "\n",
    "print(train_x.shape)\n",
    "np.save(\"train_text.npy\", train_x)"
   ]
  },
  {
   "cell_type": "code",
   "execution_count": 3,
   "metadata": {},
   "outputs": [
    {
     "name": "stdout",
     "output_type": "stream",
     "text": [
      "(135000, 1)\n",
      "1    67500\n",
      "0    67500\n",
      "Name: label, dtype: int64\n"
     ]
    },
    {
     "data": {
      "text/html": [
       "<div>\n",
       "<style scoped>\n",
       "    .dataframe tbody tr th:only-of-type {\n",
       "        vertical-align: middle;\n",
       "    }\n",
       "\n",
       "    .dataframe tbody tr th {\n",
       "        vertical-align: top;\n",
       "    }\n",
       "\n",
       "    .dataframe thead th {\n",
       "        text-align: right;\n",
       "    }\n",
       "</style>\n",
       "<table border=\"1\" class=\"dataframe\">\n",
       "  <thead>\n",
       "    <tr style=\"text-align: right;\">\n",
       "      <th></th>\n",
       "      <th>label</th>\n",
       "    </tr>\n",
       "  </thead>\n",
       "  <tbody>\n",
       "    <tr>\n",
       "      <th>0</th>\n",
       "      <td>1</td>\n",
       "    </tr>\n",
       "    <tr>\n",
       "      <th>1</th>\n",
       "      <td>1</td>\n",
       "    </tr>\n",
       "    <tr>\n",
       "      <th>2</th>\n",
       "      <td>1</td>\n",
       "    </tr>\n",
       "    <tr>\n",
       "      <th>3</th>\n",
       "      <td>1</td>\n",
       "    </tr>\n",
       "    <tr>\n",
       "      <th>4</th>\n",
       "      <td>1</td>\n",
       "    </tr>\n",
       "  </tbody>\n",
       "</table>\n",
       "</div>"
      ],
      "text/plain": [
       "   label\n",
       "0      1\n",
       "1      1\n",
       "2      1\n",
       "3      1\n",
       "4      1"
      ]
     },
     "execution_count": 3,
     "metadata": {},
     "output_type": "execute_result"
    }
   ],
   "source": [
    "train_y = pd.concat([\n",
    "    pd.read_csv('../input/indoxtc-extracting-yelp-features-xlm-r-1/train_label.csv'),\n",
    "    pd.read_csv('../input/indoxtc-extracting-yelp-features-xlm-r-2/train_label.csv'),\n",
    "    pd.read_csv('../input/indoxtc-extracting-yelp-features-xlm-r-3/train_label.csv'),\n",
    "    pd.read_csv('../input/indoxtc-extracting-yelp-features-xlm-r-4/train_label.csv'),\n",
    "    pd.read_csv('../input/indoxtc-extracting-yelp-features-xlm-r-5/train_label.csv'),\n",
    "    pd.read_csv('../input/indoxtc-extracting-yelp-features-xlm-r-6/train_label.csv'),\n",
    "    pd.read_csv('../input/indoxtc-extracting-yelp-features-xlm-r-7/train_label.csv'),\n",
    "    pd.read_csv('../input/indoxtc-extracting-yelp-features-xlm-r-8/train_label.csv'),\n",
    "    pd.read_csv('../input/indoxtc-extracting-yelp-features-xlm-r-9/train_label.csv'),\n",
    "])\n",
    "\n",
    "train_y['label'].to_csv('train_label.csv', index=False, header=['label'])\n",
    "\n",
    "print(train_y.shape)\n",
    "print(train_y.label.value_counts())\n",
    "train_y.head()"
   ]
  },
  {
   "cell_type": "code",
   "execution_count": 4,
   "metadata": {},
   "outputs": [
    {
     "name": "stdout",
     "output_type": "stream",
     "text": [
      "__notebook__.ipynb  train_label.csv  train_text.npy\r\n"
     ]
    }
   ],
   "source": [
    "!ls '.'"
   ]
  },
  {
   "cell_type": "code",
   "execution_count": null,
   "metadata": {},
   "outputs": [],
   "source": []
  }
 ],
 "metadata": {
  "kernelspec": {
   "display_name": "Python 3",
   "language": "python",
   "name": "python3"
  },
  "language_info": {
   "codemirror_mode": {
    "name": "ipython",
    "version": 3
   },
   "file_extension": ".py",
   "mimetype": "text/x-python",
   "name": "python",
   "nbconvert_exporter": "python",
   "pygments_lexer": "ipython3",
   "version": "3.6.6"
  }
 },
 "nbformat": 4,
 "nbformat_minor": 4
}
