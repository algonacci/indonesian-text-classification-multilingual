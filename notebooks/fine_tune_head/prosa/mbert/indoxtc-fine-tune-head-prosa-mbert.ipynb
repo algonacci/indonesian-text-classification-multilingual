{
 "cells": [
  {
   "cell_type": "markdown",
   "metadata": {},
   "source": [
    "# IndoXTC - Fine-tune Head Prosa [mBERT]\n",
    "Exploring Indonesian hate speech/abusive & sentiment text classification using multilingual language model.\n",
    "\n",
    "This kernel is a part of my undergraduate final year project.\n",
    "Checkout the full github repository:\n",
    "https://github.com/ilhamfp/indonesian-text-classification-multilingual"
   ]
  },
  {
   "cell_type": "code",
   "execution_count": 1,
   "metadata": {
    "_cell_guid": "b1076dfc-b9ad-4769-8c92-a6c4dae69d19",
    "_uuid": "8f2839f25d086af736a60e9eeb907d3b93b6e0e5"
   },
   "outputs": [],
   "source": [
    "#############################\n",
    "# Experiment configurations #\n",
    "#############################\n",
    "\n",
    "INDO_DATA_NAME = 'prosa'\n",
    "DATA_PATH_INDO = '../input/indoxtc-extracting-prosa-features-mbert'\n",
    "\n",
    "FOREIGN_DATA_NAME = 'yelp'\n",
    "DATA_PATH_FOREIGN = '../input/indoxtc-combining-yelp-features-mbert'\n",
    "\n",
    "MODEL_NAME = 'mBERT'\n",
    "\n",
    "EXPERIMENT_TYPE_LIST = ['A', 'B', 'C'] # A / B / C\n",
    "TOTAL_DATA = 10981 # 500 / 1000 / 2500 / 5000 / 7500 / 10981\n",
    "FOREIGN_LANG_DATA_MULT_LIST = [0.25, 0.5, 0.75, 1, 1.5, 2, 3, 4, 5, 6]\n",
    "RANDOM_SEED = 1\n",
    "VALIDATION_DATA = 0.1"
   ]
  },
  {
   "cell_type": "code",
   "execution_count": 2,
   "metadata": {},
   "outputs": [
    {
     "name": "stdout",
     "output_type": "stream",
     "text": [
      "CUDA is not available.  Training on CPU ...\n"
     ]
    }
   ],
   "source": [
    "import os\n",
    "import numpy as np\n",
    "import pandas as pd\n",
    "from load_data import load_experiment_features\n",
    "from model_head import set_seed, train, test, evaluate"
   ]
  },
  {
   "cell_type": "markdown",
   "metadata": {},
   "source": [
    "## Experiment"
   ]
  },
  {
   "cell_type": "code",
   "execution_count": 3,
   "metadata": {
    "_cell_guid": "79c7e3d0-c299-4dcb-8224-4455121ee9b0",
    "_uuid": "d629ff2d2480ee46fbb7e2d37f6b5fab8052498a"
   },
   "outputs": [
    {
     "name": "stdout",
     "output_type": "stream",
     "text": [
      "\n",
      "~~Result_A_10981~~\n",
      "EarlyStopping! Epoch 15\n",
      "Last: 9 \tT-Loss: 0.415648 \tT-Acc: 0.826250 \tV-Loss: 0.394047 \tV-Acc: 0.837887\n",
      "Test Loss: 0.597231\n",
      "Test accuracy: 0.691748\n",
      "##MAX## \n",
      "THRESHOLD: 0.460 \tF1: 0.70377181 \tRecall: 0.67788462 \tPrec: 0.71938776\n",
      "\n",
      "~~Result_B_10981~~\n",
      "EarlyStopping! Epoch 30\n",
      "Last: 24 \tT-Loss: 0.562505 \tT-Acc: 0.721975 \tV-Loss: 0.523726 \tV-Acc: 0.715847\n",
      "Test Loss: 0.641573\n",
      "Test accuracy: 0.594660\n"
     ]
    },
    {
     "name": "stderr",
     "output_type": "stream",
     "text": [
      "/opt/conda/lib/python3.6/site-packages/sklearn/metrics/_classification.py:1272: UndefinedMetricWarning: Precision is ill-defined and being set to 0.0 due to no predicted samples. Use `zero_division` parameter to control this behavior.\n",
      "  _warn_prf(average, modifier, msg_start, len(result))\n"
     ]
    },
    {
     "name": "stdout",
     "output_type": "stream",
     "text": [
      "##MAX## \n",
      "THRESHOLD: 0.630 \tF1: 0.68929110 \tRecall: 0.69230769 \tPrec: 0.69230769\n",
      "\n",
      "~~Result_C_10981_0.25~~\n"
     ]
    },
    {
     "name": "stderr",
     "output_type": "stream",
     "text": [
      "/opt/conda/lib/python3.6/site-packages/torch/nn/modules/loss.py:498: UserWarning: Using a target size (torch.Size([1])) that is different to the input size (torch.Size([])) is deprecated. Please ensure they have the same size.\n",
      "  return F.binary_cross_entropy(input, target, weight=self.weight, reduction=self.reduction)\n"
     ]
    },
    {
     "name": "stdout",
     "output_type": "stream",
     "text": [
      "EarlyStopping! Epoch 22\n",
      "Last: 16 \tT-Loss: 0.449429 \tT-Acc: 0.795272 \tV-Loss: 0.385909 \tV-Acc: 0.828780\n",
      "Test Loss: 0.576572\n",
      "Test accuracy: 0.701456\n",
      "##MAX## \n",
      "THRESHOLD: 0.500 \tF1: 0.70035301 \tRecall: 0.63461538 \tPrec: 0.73743017\n",
      "\n",
      "~~Result_C_10981_0.5~~\n",
      "EarlyStopping! Epoch 35\n",
      "Last: 29 \tT-Loss: 0.467286 \tT-Acc: 0.781488 \tV-Loss: 0.389767 \tV-Acc: 0.835155\n",
      "Test Loss: 0.566865\n",
      "Test accuracy: 0.686893\n",
      "##MAX## \n",
      "THRESHOLD: 0.450 \tF1: 0.70626742 \tRecall: 0.71153846 \tPrec: 0.70813397\n",
      "\n",
      "~~Result_C_10981_0.75~~\n",
      "EarlyStopping! Epoch 21\n",
      "Last: 15 \tT-Loss: 0.490633 \tT-Acc: 0.760958 \tV-Loss: 0.399380 \tV-Acc: 0.819672\n",
      "Test Loss: 0.592653\n",
      "Test accuracy: 0.677184\n",
      "##MAX## \n",
      "THRESHOLD: 0.390 \tF1: 0.68975720 \tRecall: 0.76442308 \tPrec: 0.67088608\n",
      "\n",
      "~~Result_C_10981_1~~\n",
      "EarlyStopping! Epoch 22\n",
      "Last: 16 \tT-Loss: 0.497295 \tT-Acc: 0.758765 \tV-Loss: 0.397266 \tV-Acc: 0.827869\n",
      "Test Loss: 0.573966\n",
      "Test accuracy: 0.689320\n",
      "##MAX## \n",
      "THRESHOLD: 0.470 \tF1: 0.70144048 \tRecall: 0.68750000 \tPrec: 0.71144279\n",
      "\n",
      "~~Result_C_10981_1.5~~\n",
      "EarlyStopping! Epoch 24\n",
      "Last: 18 \tT-Loss: 0.508083 \tT-Acc: 0.750627 \tV-Loss: 0.406576 \tV-Acc: 0.816029\n",
      "Test Loss: 0.574416\n",
      "Test accuracy: 0.694175\n",
      "##MAX## \n",
      "THRESHOLD: 0.470 \tF1: 0.69638551 \tRecall: 0.71634615 \tPrec: 0.69302326\n",
      "\n",
      "~~Result_C_10981_2~~\n",
      "EarlyStopping! Epoch 23\n",
      "Last: 17 \tT-Loss: 0.509988 \tT-Acc: 0.749325 \tV-Loss: 0.401979 \tV-Acc: 0.829690\n",
      "Test Loss: 0.588201\n",
      "Test accuracy: 0.679612\n",
      "##MAX## \n",
      "THRESHOLD: 0.510 \tF1: 0.68554270 \tRecall: 0.61538462 \tPrec: 0.72316384\n",
      "\n",
      "~~Result_C_10981_3~~\n",
      "EarlyStopping! Epoch 13\n",
      "Last: 7 \tT-Loss: 0.526919 \tT-Acc: 0.735271 \tV-Loss: 0.412658 \tV-Acc: 0.822404\n",
      "Test Loss: 0.587594\n",
      "Test accuracy: 0.674757\n"
     ]
    },
    {
     "name": "stderr",
     "output_type": "stream",
     "text": [
      "/opt/conda/lib/python3.6/site-packages/sklearn/metrics/_classification.py:1272: UndefinedMetricWarning: Precision is ill-defined and being set to 0.0 due to no predicted samples. Use `zero_division` parameter to control this behavior.\n",
      "  _warn_prf(average, modifier, msg_start, len(result))\n"
     ]
    },
    {
     "name": "stdout",
     "output_type": "stream",
     "text": [
      "##MAX## \n",
      "THRESHOLD: 0.550 \tF1: 0.68045565 \tRecall: 0.60576923 \tPrec: 0.72000000\n",
      "\n",
      "~~Result_C_10981_4~~\n",
      "EarlyStopping! Epoch 14\n",
      "Last: 8 \tT-Loss: 0.528151 \tT-Acc: 0.735419 \tV-Loss: 0.424869 \tV-Acc: 0.815118\n",
      "Test Loss: 0.584777\n",
      "Test accuracy: 0.686893\n"
     ]
    },
    {
     "name": "stderr",
     "output_type": "stream",
     "text": [
      "/opt/conda/lib/python3.6/site-packages/sklearn/metrics/_classification.py:1272: UndefinedMetricWarning: Precision is ill-defined and being set to 0.0 due to no predicted samples. Use `zero_division` parameter to control this behavior.\n",
      "  _warn_prf(average, modifier, msg_start, len(result))\n"
     ]
    },
    {
     "name": "stdout",
     "output_type": "stream",
     "text": [
      "##MAX## \n",
      "THRESHOLD: 0.500 \tF1: 0.68680279 \tRecall: 0.69711538 \tPrec: 0.68720379\n",
      "\n",
      "~~Result_C_10981_5~~\n"
     ]
    },
    {
     "name": "stderr",
     "output_type": "stream",
     "text": [
      "/opt/conda/lib/python3.6/site-packages/torch/nn/modules/loss.py:498: UserWarning: Using a target size (torch.Size([1])) that is different to the input size (torch.Size([])) is deprecated. Please ensure they have the same size.\n",
      "  return F.binary_cross_entropy(input, target, weight=self.weight, reduction=self.reduction)\n"
     ]
    },
    {
     "name": "stdout",
     "output_type": "stream",
     "text": [
      "EarlyStopping! Epoch 15\n",
      "Last: 9 \tT-Loss: 0.530024 \tT-Acc: 0.732196 \tV-Loss: 0.432882 \tV-Acc: 0.798725\n",
      "Test Loss: 0.582569\n",
      "Test accuracy: 0.689320\n"
     ]
    },
    {
     "name": "stderr",
     "output_type": "stream",
     "text": [
      "/opt/conda/lib/python3.6/site-packages/sklearn/metrics/_classification.py:1272: UndefinedMetricWarning: Precision is ill-defined and being set to 0.0 due to no predicted samples. Use `zero_division` parameter to control this behavior.\n",
      "  _warn_prf(average, modifier, msg_start, len(result))\n"
     ]
    },
    {
     "name": "stdout",
     "output_type": "stream",
     "text": [
      "##MAX## \n",
      "THRESHOLD: 0.640 \tF1: 0.68954789 \tRecall: 0.51923077 \tPrec: 0.81818182\n",
      "\n",
      "~~Result_C_10981_6~~\n",
      "EarlyStopping! Epoch 13\n",
      "Last: 7 \tT-Loss: 0.533274 \tT-Acc: 0.730948 \tV-Loss: 0.432810 \tV-Acc: 0.801457\n",
      "Test Loss: 0.582641\n",
      "Test accuracy: 0.684466\n",
      "##MAX## \n",
      "THRESHOLD: 0.620 \tF1: 0.68954789 \tRecall: 0.51923077 \tPrec: 0.81818182\n"
     ]
    },
    {
     "name": "stderr",
     "output_type": "stream",
     "text": [
      "/opt/conda/lib/python3.6/site-packages/sklearn/metrics/_classification.py:1272: UndefinedMetricWarning: Precision is ill-defined and being set to 0.0 due to no predicted samples. Use `zero_division` parameter to control this behavior.\n",
      "  _warn_prf(average, modifier, msg_start, len(result))\n"
     ]
    }
   ],
   "source": [
    "result_list = []\n",
    "for EXPERIMENT_TYPE in EXPERIMENT_TYPE_LIST:\n",
    "    for FOREIGN_LANG_DATA_MULT in FOREIGN_LANG_DATA_MULT_LIST:\n",
    "        set_seed(seed=RANDOM_SEED)\n",
    "        if EXPERIMENT_TYPE != 'C':\n",
    "            print('\\n~~Result_{}_{}~~'.format(EXPERIMENT_TYPE,\n",
    "                                               TOTAL_DATA))\n",
    "        else:\n",
    "            print('\\n~~Result_{}_{}_{}~~'.format(EXPERIMENT_TYPE,\n",
    "                                           TOTAL_DATA,\n",
    "                                           FOREIGN_LANG_DATA_MULT))\n",
    "\n",
    "        train_loader, valid_loader, test_loader = load_experiment_features(DATA_PATH_INDO,\n",
    "                                                                           DATA_PATH_FOREIGN,\n",
    "                                                                           tipe=EXPERIMENT_TYPE, \n",
    "                                                                           total_data=TOTAL_DATA, \n",
    "                                                                           foreign_mult=FOREIGN_LANG_DATA_MULT,\n",
    "                                                                           valid_size=VALIDATION_DATA)\n",
    "        \n",
    "        train(train_loader, valid_loader, input_dim=768)\n",
    "        y_true, y_pred_proba = test(test_loader, input_dim=768)\n",
    "        max_f1, max_recall, max_precision = evaluate(y_true, y_pred_proba)\n",
    "\n",
    "        result = pd.DataFrame({\n",
    "            'y_true': y_true,\n",
    "            'y_pred_proba': y_pred_proba\n",
    "        })\n",
    "        result.to_csv('result_{}_{}_{}_{}_{}_{}_head.csv'.format(INDO_DATA_NAME,\n",
    "                                                            FOREIGN_DATA_NAME,\n",
    "                                                            MODEL_NAME,\n",
    "                                                            EXPERIMENT_TYPE,\n",
    "                                                            TOTAL_DATA,\n",
    "                                                            FOREIGN_LANG_DATA_MULT), \n",
    "                      index=False)\n",
    "        \n",
    "\n",
    "        result_list.append({\n",
    "            'tipe':EXPERIMENT_TYPE,\n",
    "            'total_data':TOTAL_DATA, \n",
    "            'foreign_mult':FOREIGN_LANG_DATA_MULT,\n",
    "            'total_foreign_data':int(TOTAL_DATA*FOREIGN_LANG_DATA_MULT) if EXPERIMENT_TYPE=='C' else 0,\n",
    "            'max_f1':max_f1,\n",
    "            'max_recall':max_recall,\n",
    "            'max_precision':max_precision\n",
    "        })\n",
    "        \n",
    "        os.remove(\"model.pt\")\n",
    "\n",
    "        if EXPERIMENT_TYPE != 'C':\n",
    "            break"
   ]
  },
  {
   "cell_type": "markdown",
   "metadata": {},
   "source": [
    "## Save"
   ]
  },
  {
   "cell_type": "code",
   "execution_count": 4,
   "metadata": {},
   "outputs": [
    {
     "name": "stdout",
     "output_type": "stream",
     "text": [
      "(12, 7)\n"
     ]
    },
    {
     "data": {
      "text/html": [
       "<div>\n",
       "<style scoped>\n",
       "    .dataframe tbody tr th:only-of-type {\n",
       "        vertical-align: middle;\n",
       "    }\n",
       "\n",
       "    .dataframe tbody tr th {\n",
       "        vertical-align: top;\n",
       "    }\n",
       "\n",
       "    .dataframe thead th {\n",
       "        text-align: right;\n",
       "    }\n",
       "</style>\n",
       "<table border=\"1\" class=\"dataframe\">\n",
       "  <thead>\n",
       "    <tr style=\"text-align: right;\">\n",
       "      <th></th>\n",
       "      <th>tipe</th>\n",
       "      <th>total_data</th>\n",
       "      <th>foreign_mult</th>\n",
       "      <th>total_foreign_data</th>\n",
       "      <th>max_f1</th>\n",
       "      <th>max_recall</th>\n",
       "      <th>max_precision</th>\n",
       "    </tr>\n",
       "  </thead>\n",
       "  <tbody>\n",
       "    <tr>\n",
       "      <th>0</th>\n",
       "      <td>A</td>\n",
       "      <td>10981</td>\n",
       "      <td>0.25</td>\n",
       "      <td>0</td>\n",
       "      <td>0.703772</td>\n",
       "      <td>0.677885</td>\n",
       "      <td>0.719388</td>\n",
       "    </tr>\n",
       "    <tr>\n",
       "      <th>1</th>\n",
       "      <td>B</td>\n",
       "      <td>10981</td>\n",
       "      <td>0.25</td>\n",
       "      <td>0</td>\n",
       "      <td>0.689291</td>\n",
       "      <td>0.692308</td>\n",
       "      <td>0.692308</td>\n",
       "    </tr>\n",
       "    <tr>\n",
       "      <th>2</th>\n",
       "      <td>C</td>\n",
       "      <td>10981</td>\n",
       "      <td>0.25</td>\n",
       "      <td>2745</td>\n",
       "      <td>0.700353</td>\n",
       "      <td>0.634615</td>\n",
       "      <td>0.737430</td>\n",
       "    </tr>\n",
       "    <tr>\n",
       "      <th>3</th>\n",
       "      <td>C</td>\n",
       "      <td>10981</td>\n",
       "      <td>0.50</td>\n",
       "      <td>5490</td>\n",
       "      <td>0.706267</td>\n",
       "      <td>0.711538</td>\n",
       "      <td>0.708134</td>\n",
       "    </tr>\n",
       "    <tr>\n",
       "      <th>4</th>\n",
       "      <td>C</td>\n",
       "      <td>10981</td>\n",
       "      <td>0.75</td>\n",
       "      <td>8235</td>\n",
       "      <td>0.689757</td>\n",
       "      <td>0.764423</td>\n",
       "      <td>0.670886</td>\n",
       "    </tr>\n",
       "  </tbody>\n",
       "</table>\n",
       "</div>"
      ],
      "text/plain": [
       "  tipe  total_data  foreign_mult  total_foreign_data    max_f1  max_recall  \\\n",
       "0    A       10981          0.25                   0  0.703772    0.677885   \n",
       "1    B       10981          0.25                   0  0.689291    0.692308   \n",
       "2    C       10981          0.25                2745  0.700353    0.634615   \n",
       "3    C       10981          0.50                5490  0.706267    0.711538   \n",
       "4    C       10981          0.75                8235  0.689757    0.764423   \n",
       "\n",
       "   max_precision  \n",
       "0       0.719388  \n",
       "1       0.692308  \n",
       "2       0.737430  \n",
       "3       0.708134  \n",
       "4       0.670886  "
      ]
     },
     "execution_count": 4,
     "metadata": {},
     "output_type": "execute_result"
    }
   ],
   "source": [
    "final_result = pd.DataFrame(result_list) \n",
    "\n",
    "if len(EXPERIMENT_TYPE_LIST) == 1:\n",
    "    final_result.to_csv('final_{}_{}_{}_result_{}_{}.csv'.format(INDO_DATA_NAME,\n",
    "                                                              FOREIGN_DATA_NAME,\n",
    "                                                              MODEL_NAME,\n",
    "                                                              EXPERIMENT_TYPE_LIST[0],\n",
    "                                                              TOTAL_DATA), \n",
    "                        index=False)\n",
    "\n",
    "else:\n",
    "    final_result.to_csv('final_{}_{}_{}_result_combined_{}.csv'.format(INDO_DATA_NAME,\n",
    "                                                                       FOREIGN_DATA_NAME,\n",
    "                                                                       MODEL_NAME,\n",
    "                                                                       TOTAL_DATA),\n",
    "                        index=False)\n",
    "    \n",
    "print(final_result.shape)\n",
    "final_result.head()"
   ]
  },
  {
   "cell_type": "markdown",
   "metadata": {},
   "source": [
    "## Plot"
   ]
  },
  {
   "cell_type": "code",
   "execution_count": 5,
   "metadata": {},
   "outputs": [
    {
     "data": {
      "image/png": "[encoded data removed]",
      "text/plain": [
       "<Figure size 432x288 with 1 Axes>"
      ]
     },
     "metadata": {
      "needs_background": "light"
     },
     "output_type": "display_data"
    }
   ],
   "source": [
    "import matplotlib.pyplot as plt\n",
    "%matplotlib inline\n",
    "\n",
    "if 'A' in EXPERIMENT_TYPE_LIST:\n",
    "    plt.plot(np.zeros_like(final_result[final_result['tipe'] == 'A'].max_f1.values), \n",
    "             final_result[final_result['tipe'] == 'A'].max_f1.values, 'ro', label='A')\n",
    "\n",
    "if 'B' in EXPERIMENT_TYPE_LIST:\n",
    "    plt.plot(np.zeros_like(final_result[final_result['tipe'] == 'B'].max_f1.values), \n",
    "             final_result[final_result['tipe'] == 'B'].max_f1.values, 'bo', label='B')\n",
    "\n",
    "if 'C' in EXPERIMENT_TYPE_LIST:\n",
    "    plt.plot(final_result[final_result['tipe'] == 'C'].foreign_mult.values, \n",
    "             final_result[final_result['tipe'] == 'C'].max_f1.values, 'go', label='C')\n",
    "\n",
    "plt.legend(loc=\"lower right\")\n",
    "plt.xlabel('Foreign Language Multiplier')\n",
    "plt.ylabel('F1 Score')\n",
    "plt.title('Plot {}-{} (model {}) result with {} data'.format(INDO_DATA_NAME,\n",
    "                                                             FOREIGN_DATA_NAME,\n",
    "                                                             MODEL_NAME,\n",
    "                                                             TOTAL_DATA))\n",
    "    \n",
    "plt.show()\n",
    "    "
   ]
  },
  {
   "cell_type": "code",
   "execution_count": null,
   "metadata": {},
   "outputs": [],
   "source": []
  }
 ],
 "metadata": {
  "kernelspec": {
   "display_name": "Python 3",
   "language": "python",
   "name": "python3"
  },
  "language_info": {
   "codemirror_mode": {
    "name": "ipython",
    "version": 3
   },
   "file_extension": ".py",
   "mimetype": "text/x-python",
   "name": "python",
   "nbconvert_exporter": "python",
   "pygments_lexer": "ipython3",
   "version": "3.6.6"
  }
 },
 "nbformat": 4,
 "nbformat_minor": 4
}
