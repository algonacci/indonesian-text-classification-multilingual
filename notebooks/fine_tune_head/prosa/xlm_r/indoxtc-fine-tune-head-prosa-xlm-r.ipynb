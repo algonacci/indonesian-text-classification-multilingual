{
 "cells": [
  {
   "cell_type": "markdown",
   "metadata": {},
   "source": [
    "# IndoXTC - Fine-tune Head Prosa [XLM-R]\n",
    "Exploring Indonesian hate speech/abusive & sentiment text classification using multilingual language model.\n",
    "\n",
    "This kernel is a part of my undergraduate final year project.\n",
    "Checkout the full github repository:\n",
    "https://github.com/ilhamfp/indonesian-text-classification-multilingual"
   ]
  },
  {
   "cell_type": "code",
   "execution_count": 1,
   "metadata": {
    "_cell_guid": "b1076dfc-b9ad-4769-8c92-a6c4dae69d19",
    "_uuid": "8f2839f25d086af736a60e9eeb907d3b93b6e0e5"
   },
   "outputs": [],
   "source": [
    "#############################\n",
    "# Experiment configurations #\n",
    "#############################\n",
    "\n",
    "INDO_DATA_NAME = 'prosa'\n",
    "DATA_PATH_INDO = '../input/indoxtc-extracting-prosa-features-xlm-r'\n",
    "\n",
    "FOREIGN_DATA_NAME = 'yelp'\n",
    "DATA_PATH_FOREIGN = '../input/indoxtc-combining-yelp-features-xlm-r'\n",
    "\n",
    "MODEL_NAME = 'XLM_R'\n",
    "\n",
    "EXPERIMENT_TYPE_LIST = ['A', 'B', 'C'] # A / B / C\n",
    "TOTAL_DATA = 10981 # 500 / 1000 / 2500 / 5000 / 7500 / 10981\n",
    "FOREIGN_LANG_DATA_MULT_LIST = [0.25, 0.5, 0.75, 1, 1.5, 2, 3, 4, 5, 6]\n",
    "RANDOM_SEED = 1\n",
    "VALIDATION_DATA = 0.1"
   ]
  },
  {
   "cell_type": "code",
   "execution_count": 2,
   "metadata": {},
   "outputs": [
    {
     "name": "stdout",
     "output_type": "stream",
     "text": [
      "CUDA is not available.  Training on CPU ...\n"
     ]
    }
   ],
   "source": [
    "import os\n",
    "import numpy as np\n",
    "import pandas as pd\n",
    "from load_data import load_experiment_features\n",
    "from model_head import set_seed, train, test, evaluate"
   ]
  },
  {
   "cell_type": "markdown",
   "metadata": {},
   "source": [
    "## Experiment"
   ]
  },
  {
   "cell_type": "code",
   "execution_count": 3,
   "metadata": {
    "_cell_guid": "79c7e3d0-c299-4dcb-8224-4455121ee9b0",
    "_uuid": "d629ff2d2480ee46fbb7e2d37f6b5fab8052498a"
   },
   "outputs": [
    {
     "name": "stdout",
     "output_type": "stream",
     "text": [
      "\n",
      "~~Result_A_10981~~\n",
      "EarlyStopping! Epoch 55\n",
      "Last: 49 \tT-Loss: 0.299478 \tT-Acc: 0.877859 \tV-Loss: 0.282874 \tV-Acc: 0.896175\n",
      "Test Loss: 0.488595\n",
      "Test accuracy: 0.737864\n",
      "##MAX## \n",
      "THRESHOLD: 0.330 \tF1: 0.81063945 \tRecall: 0.81730769 \tPrec: 0.80952381\n",
      "\n",
      "~~Result_B_10981~~\n",
      "EarlyStopping! Epoch 50\n",
      "Last: 44 \tT-Loss: 0.473694 \tT-Acc: 0.817078 \tV-Loss: 0.532415 \tV-Acc: 0.700364\n",
      "Test Loss: 0.607461\n",
      "Test accuracy: 0.674757\n"
     ]
    },
    {
     "name": "stderr",
     "output_type": "stream",
     "text": [
      "/opt/conda/lib/python3.6/site-packages/sklearn/metrics/_classification.py:1272: UndefinedMetricWarning: Precision is ill-defined and being set to 0.0 due to no predicted samples. Use `zero_division` parameter to control this behavior.\n",
      "  _warn_prf(average, modifier, msg_start, len(result))\n"
     ]
    },
    {
     "name": "stdout",
     "output_type": "stream",
     "text": [
      "##MAX## \n",
      "THRESHOLD: 0.600 \tF1: 0.73517323 \tRecall: 0.75961538 \tPrec: 0.72811060\n",
      "\n",
      "~~Result_C_10981_0.25~~\n"
     ]
    },
    {
     "name": "stderr",
     "output_type": "stream",
     "text": [
      "/opt/conda/lib/python3.6/site-packages/torch/nn/modules/loss.py:498: UserWarning: Using a target size (torch.Size([1])) that is different to the input size (torch.Size([])) is deprecated. Please ensure they have the same size.\n",
      "  return F.binary_cross_entropy(input, target, weight=self.weight, reduction=self.reduction)\n"
     ]
    },
    {
     "name": "stdout",
     "output_type": "stream",
     "text": [
      "EarlyStopping! Epoch 38\n",
      "Last: 32 \tT-Loss: 0.343248 \tT-Acc: 0.856067 \tV-Loss: 0.289750 \tV-Acc: 0.879781\n",
      "Test Loss: 0.483879\n",
      "Test accuracy: 0.766990\n",
      "##MAX## \n",
      "THRESHOLD: 0.300 \tF1: 0.81241611 \tRecall: 0.86538462 \tPrec: 0.78602620\n",
      "\n",
      "~~Result_C_10981_0.5~~\n",
      "EarlyStopping! Epoch 51\n",
      "Last: 45 \tT-Loss: 0.352169 \tT-Acc: 0.849018 \tV-Loss: 0.284919 \tV-Acc: 0.894353\n",
      "Test Loss: 0.465808\n",
      "Test accuracy: 0.781553\n",
      "##MAX## \n",
      "THRESHOLD: 0.360 \tF1: 0.82276437 \tRecall: 0.79807692 \tPrec: 0.84263959\n",
      "\n",
      "~~Result_C_10981_0.75~~\n",
      "EarlyStopping! Epoch 44\n",
      "Last: 38 \tT-Loss: 0.356235 \tT-Acc: 0.851047 \tV-Loss: 0.295426 \tV-Acc: 0.884335\n",
      "Test Loss: 0.463468\n",
      "Test accuracy: 0.786408\n",
      "##MAX## \n",
      "THRESHOLD: 0.310 \tF1: 0.83003300 \tRecall: 0.84134615 \tPrec: 0.82547170\n",
      "\n",
      "~~Result_C_10981_1~~\n",
      "EarlyStopping! Epoch 49\n",
      "Last: 43 \tT-Loss: 0.360626 \tT-Acc: 0.848318 \tV-Loss: 0.303723 \tV-Acc: 0.877049\n",
      "Test Loss: 0.454596\n",
      "Test accuracy: 0.793689\n",
      "##MAX## \n",
      "THRESHOLD: 0.340 \tF1: 0.83735469 \tRecall: 0.84134615 \tPrec: 0.83732057\n",
      "\n",
      "~~Result_C_10981_1.5~~\n",
      "EarlyStopping! Epoch 30\n",
      "Last: 24 \tT-Loss: 0.373929 \tT-Acc: 0.840322 \tV-Loss: 0.305488 \tV-Acc: 0.879781\n",
      "Test Loss: 0.455276\n",
      "Test accuracy: 0.803398\n",
      "##MAX## \n",
      "THRESHOLD: 0.360 \tF1: 0.82766889 \tRecall: 0.81730769 \tPrec: 0.83743842\n",
      "\n",
      "~~Result_C_10981_2~~\n",
      "EarlyStopping! Epoch 20\n",
      "Last: 14 \tT-Loss: 0.389671 \tT-Acc: 0.836346 \tV-Loss: 0.322227 \tV-Acc: 0.873406\n",
      "Test Loss: 0.485456\n",
      "Test accuracy: 0.769417\n",
      "##MAX## \n",
      "THRESHOLD: 0.380 \tF1: 0.82995283 \tRecall: 0.79326923 \tPrec: 0.85937500\n",
      "\n",
      "~~Result_C_10981_3~~\n",
      "EarlyStopping! Epoch 17\n",
      "Last: 11 \tT-Loss: 0.387421 \tT-Acc: 0.839215 \tV-Loss: 0.338740 \tV-Acc: 0.862477\n",
      "Test Loss: 0.457260\n",
      "Test accuracy: 0.820388\n",
      "##MAX## \n",
      "THRESHOLD: 0.490 \tF1: 0.81967019 \tRecall: 0.75000000 \tPrec: 0.87640449\n",
      "\n",
      "~~Result_C_10981_4~~\n",
      "EarlyStopping! Epoch 29\n",
      "Last: 23 \tT-Loss: 0.359188 \tT-Acc: 0.849577 \tV-Loss: 0.335265 \tV-Acc: 0.861566\n",
      "Test Loss: 0.427567\n",
      "Test accuracy: 0.827670\n",
      "##MAX## \n",
      "THRESHOLD: 0.450 \tF1: 0.83438948 \tRecall: 0.76923077 \tPrec: 0.88888889\n",
      "\n",
      "~~Result_C_10981_5~~\n"
     ]
    },
    {
     "name": "stderr",
     "output_type": "stream",
     "text": [
      "/opt/conda/lib/python3.6/site-packages/torch/nn/modules/loss.py:498: UserWarning: Using a target size (torch.Size([1])) that is different to the input size (torch.Size([])) is deprecated. Please ensure they have the same size.\n",
      "  return F.binary_cross_entropy(input, target, weight=self.weight, reduction=self.reduction)\n"
     ]
    },
    {
     "name": "stdout",
     "output_type": "stream",
     "text": [
      "EarlyStopping! Epoch 25\n",
      "Last: 19 \tT-Loss: 0.355732 \tT-Acc: 0.849790 \tV-Loss: 0.349133 \tV-Acc: 0.843352\n",
      "Test Loss: 0.430309\n",
      "Test accuracy: 0.815534\n",
      "##MAX## \n",
      "THRESHOLD: 0.440 \tF1: 0.83429153 \tRecall: 0.76442308 \tPrec: 0.89325843\n",
      "\n",
      "~~Result_C_10981_6~~\n",
      "EarlyStopping! Epoch 21\n",
      "Last: 15 \tT-Loss: 0.355116 \tT-Acc: 0.849378 \tV-Loss: 0.350797 \tV-Acc: 0.836066\n",
      "Test Loss: 0.418207\n",
      "Test accuracy: 0.827670\n",
      "##MAX## \n",
      "THRESHOLD: 0.440 \tF1: 0.83730100 \tRecall: 0.80769231 \tPrec: 0.86153846\n"
     ]
    }
   ],
   "source": [
    "result_list = []\n",
    "for EXPERIMENT_TYPE in EXPERIMENT_TYPE_LIST:\n",
    "    for FOREIGN_LANG_DATA_MULT in FOREIGN_LANG_DATA_MULT_LIST:\n",
    "        set_seed(seed=RANDOM_SEED)\n",
    "        if EXPERIMENT_TYPE != 'C':\n",
    "            print('\\n~~Result_{}_{}~~'.format(EXPERIMENT_TYPE,\n",
    "                                               TOTAL_DATA))\n",
    "        else:\n",
    "            print('\\n~~Result_{}_{}_{}~~'.format(EXPERIMENT_TYPE,\n",
    "                                           TOTAL_DATA,\n",
    "                                           FOREIGN_LANG_DATA_MULT))\n",
    "\n",
    "        train_loader, valid_loader, test_loader = load_experiment_features(DATA_PATH_INDO,\n",
    "                                                                           DATA_PATH_FOREIGN,\n",
    "                                                                           tipe=EXPERIMENT_TYPE, \n",
    "                                                                           total_data=TOTAL_DATA, \n",
    "                                                                           foreign_mult=FOREIGN_LANG_DATA_MULT,\n",
    "                                                                           valid_size=VALIDATION_DATA)\n",
    "        \n",
    "        train(train_loader, valid_loader)\n",
    "        y_true, y_pred_proba = test(test_loader)\n",
    "        max_f1, max_recall, max_precision = evaluate(y_true, y_pred_proba)\n",
    "\n",
    "        result = pd.DataFrame({\n",
    "            'y_true': y_true,\n",
    "            'y_pred_proba': y_pred_proba\n",
    "        })\n",
    "        result.to_csv('result_{}_{}_{}_{}_{}_{}_head.csv'.format(INDO_DATA_NAME,\n",
    "                                                            FOREIGN_DATA_NAME,\n",
    "                                                            MODEL_NAME,\n",
    "                                                            EXPERIMENT_TYPE,\n",
    "                                                            TOTAL_DATA,\n",
    "                                                            FOREIGN_LANG_DATA_MULT), \n",
    "                      index=False)\n",
    "        \n",
    "\n",
    "        result_list.append({\n",
    "            'tipe':EXPERIMENT_TYPE,\n",
    "            'total_data':TOTAL_DATA, \n",
    "            'foreign_mult':FOREIGN_LANG_DATA_MULT,\n",
    "            'total_foreign_data':int(TOTAL_DATA*FOREIGN_LANG_DATA_MULT) if EXPERIMENT_TYPE=='C' else 0,\n",
    "            'max_f1':max_f1,\n",
    "            'max_recall':max_recall,\n",
    "            'max_precision':max_precision\n",
    "        })\n",
    "        \n",
    "        os.remove(\"model.pt\")\n",
    "\n",
    "        if EXPERIMENT_TYPE != 'C':\n",
    "            break"
   ]
  },
  {
   "cell_type": "markdown",
   "metadata": {},
   "source": [
    "## Save"
   ]
  },
  {
   "cell_type": "code",
   "execution_count": 4,
   "metadata": {},
   "outputs": [
    {
     "name": "stdout",
     "output_type": "stream",
     "text": [
      "(12, 7)\n"
     ]
    },
    {
     "data": {
      "text/html": [
       "<div>\n",
       "<style scoped>\n",
       "    .dataframe tbody tr th:only-of-type {\n",
       "        vertical-align: middle;\n",
       "    }\n",
       "\n",
       "    .dataframe tbody tr th {\n",
       "        vertical-align: top;\n",
       "    }\n",
       "\n",
       "    .dataframe thead th {\n",
       "        text-align: right;\n",
       "    }\n",
       "</style>\n",
       "<table border=\"1\" class=\"dataframe\">\n",
       "  <thead>\n",
       "    <tr style=\"text-align: right;\">\n",
       "      <th></th>\n",
       "      <th>tipe</th>\n",
       "      <th>total_data</th>\n",
       "      <th>foreign_mult</th>\n",
       "      <th>total_foreign_data</th>\n",
       "      <th>max_f1</th>\n",
       "      <th>max_recall</th>\n",
       "      <th>max_precision</th>\n",
       "    </tr>\n",
       "  </thead>\n",
       "  <tbody>\n",
       "    <tr>\n",
       "      <th>0</th>\n",
       "      <td>A</td>\n",
       "      <td>10981</td>\n",
       "      <td>0.25</td>\n",
       "      <td>0</td>\n",
       "      <td>0.810639</td>\n",
       "      <td>0.817308</td>\n",
       "      <td>0.809524</td>\n",
       "    </tr>\n",
       "    <tr>\n",
       "      <th>1</th>\n",
       "      <td>B</td>\n",
       "      <td>10981</td>\n",
       "      <td>0.25</td>\n",
       "      <td>0</td>\n",
       "      <td>0.735173</td>\n",
       "      <td>0.759615</td>\n",
       "      <td>0.728111</td>\n",
       "    </tr>\n",
       "    <tr>\n",
       "      <th>2</th>\n",
       "      <td>C</td>\n",
       "      <td>10981</td>\n",
       "      <td>0.25</td>\n",
       "      <td>2745</td>\n",
       "      <td>0.812416</td>\n",
       "      <td>0.865385</td>\n",
       "      <td>0.786026</td>\n",
       "    </tr>\n",
       "    <tr>\n",
       "      <th>3</th>\n",
       "      <td>C</td>\n",
       "      <td>10981</td>\n",
       "      <td>0.50</td>\n",
       "      <td>5490</td>\n",
       "      <td>0.822764</td>\n",
       "      <td>0.798077</td>\n",
       "      <td>0.842640</td>\n",
       "    </tr>\n",
       "    <tr>\n",
       "      <th>4</th>\n",
       "      <td>C</td>\n",
       "      <td>10981</td>\n",
       "      <td>0.75</td>\n",
       "      <td>8235</td>\n",
       "      <td>0.830033</td>\n",
       "      <td>0.841346</td>\n",
       "      <td>0.825472</td>\n",
       "    </tr>\n",
       "  </tbody>\n",
       "</table>\n",
       "</div>"
      ],
      "text/plain": [
       "  tipe  total_data  foreign_mult  total_foreign_data    max_f1  max_recall  \\\n",
       "0    A       10981          0.25                   0  0.810639    0.817308   \n",
       "1    B       10981          0.25                   0  0.735173    0.759615   \n",
       "2    C       10981          0.25                2745  0.812416    0.865385   \n",
       "3    C       10981          0.50                5490  0.822764    0.798077   \n",
       "4    C       10981          0.75                8235  0.830033    0.841346   \n",
       "\n",
       "   max_precision  \n",
       "0       0.809524  \n",
       "1       0.728111  \n",
       "2       0.786026  \n",
       "3       0.842640  \n",
       "4       0.825472  "
      ]
     },
     "execution_count": 4,
     "metadata": {},
     "output_type": "execute_result"
    }
   ],
   "source": [
    "final_result = pd.DataFrame(result_list) \n",
    "\n",
    "if len(EXPERIMENT_TYPE_LIST) == 1:\n",
    "    final_result.to_csv('final_{}_{}_{}_result_{}_{}.csv'.format(INDO_DATA_NAME,\n",
    "                                                              FOREIGN_DATA_NAME,\n",
    "                                                              MODEL_NAME,\n",
    "                                                              EXPERIMENT_TYPE_LIST[0],\n",
    "                                                              TOTAL_DATA), \n",
    "                        index=False)\n",
    "\n",
    "else:\n",
    "    final_result.to_csv('final_{}_{}_{}_result_combined_{}.csv'.format(INDO_DATA_NAME,\n",
    "                                                                       FOREIGN_DATA_NAME,\n",
    "                                                                       MODEL_NAME,\n",
    "                                                                       TOTAL_DATA),\n",
    "                        index=False)\n",
    "    \n",
    "print(final_result.shape)\n",
    "final_result.head()"
   ]
  },
  {
   "cell_type": "markdown",
   "metadata": {},
   "source": [
    "## Plot"
   ]
  },
  {
   "cell_type": "code",
   "execution_count": 5,
   "metadata": {},
   "outputs": [
    {
     "data": {
      "image/png": "[encoded data removed]",
      "text/plain": [
       "<Figure size 432x288 with 1 Axes>"
      ]
     },
     "metadata": {
      "needs_background": "light"
     },
     "output_type": "display_data"
    }
   ],
   "source": [
    "import matplotlib.pyplot as plt\n",
    "%matplotlib inline\n",
    "\n",
    "if 'A' in EXPERIMENT_TYPE_LIST:\n",
    "    plt.plot(np.zeros_like(final_result[final_result['tipe'] == 'A'].max_f1.values), \n",
    "             final_result[final_result['tipe'] == 'A'].max_f1.values, 'ro', label='A')\n",
    "\n",
    "if 'B' in EXPERIMENT_TYPE_LIST:\n",
    "    plt.plot(np.zeros_like(final_result[final_result['tipe'] == 'B'].max_f1.values), \n",
    "             final_result[final_result['tipe'] == 'B'].max_f1.values, 'bo', label='B')\n",
    "\n",
    "if 'C' in EXPERIMENT_TYPE_LIST:\n",
    "    plt.plot(final_result[final_result['tipe'] == 'C'].foreign_mult.values, \n",
    "             final_result[final_result['tipe'] == 'C'].max_f1.values, 'go', label='C')\n",
    "\n",
    "plt.legend(loc=\"lower right\")\n",
    "plt.xlabel('Foreign Language Multiplier')\n",
    "plt.ylabel('F1 Score')\n",
    "plt.title('Plot {}-{} (model {}) result with {} data'.format(INDO_DATA_NAME,\n",
    "                                                             FOREIGN_DATA_NAME,\n",
    "                                                             MODEL_NAME,\n",
    "                                                             TOTAL_DATA))\n",
    "    \n",
    "plt.show()\n",
    "    "
   ]
  },
  {
   "cell_type": "code",
   "execution_count": null,
   "metadata": {},
   "outputs": [],
   "source": []
  }
 ],
 "metadata": {
  "kernelspec": {
   "display_name": "Python 3",
   "language": "python",
   "name": "python3"
  },
  "language_info": {
   "codemirror_mode": {
    "name": "ipython",
    "version": 3
   },
   "file_extension": ".py",
   "mimetype": "text/x-python",
   "name": "python",
   "nbconvert_exporter": "python",
   "pygments_lexer": "ipython3",
   "version": "3.6.6"
  }
 },
 "nbformat": 4,
 "nbformat_minor": 4
}
